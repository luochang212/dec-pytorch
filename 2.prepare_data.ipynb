{
 "cells": [
  {
   "cell_type": "markdown",
   "id": "82c4860c-9e09-4d37-990c-83fc2868d3e4",
   "metadata": {
    "execution": {
     "iopub.execute_input": "2025-03-07T15:53:32.273042Z",
     "iopub.status.busy": "2025-03-07T15:53:32.272106Z",
     "iopub.status.idle": "2025-03-07T15:53:32.278250Z",
     "shell.execute_reply": "2025-03-07T15:53:32.277734Z",
     "shell.execute_reply.started": "2025-03-07T15:53:32.273042Z"
    }
   },
   "source": [
    "# Embedding 数据准备\n",
    "\n",
    "上一节中，我们已经开发了一个 FastAPI 推理服务，用于将图片转成 DINOv2 推理的 Embedding。\n",
    "\n",
    "本节我们来做数据准备。首先下载 CIFAR-100 数据集，它是一个由 100 类图片组成的图片分类数据集，其中训练集有 5 万张图片，测试集有 1 万张图片。下载完成后，使用上一节搭建的 FastAPI 服务，将图片转成 Embedding，然后用 csv 格式存储 Embedding 和对应标签。\n",
    "\n",
    "为了方便 DataFrame 和 csv 之间的转换，我开发了两个工具函数，见 `utils.py`：\n",
    "\n",
    "- `embedding_df_to_csv()`: 将 DataFrame 存入 csv\n",
    "- `read_embedding_csv()`: 从 csv 读入 DataFrame"
   ]
  },
  {
   "cell_type": "code",
   "execution_count": 13,
   "id": "6961d737-b321-46d8-b501-43056320e6af",
   "metadata": {
    "execution": {
     "iopub.execute_input": "2025-03-07T20:12:32.692356Z",
     "iopub.status.busy": "2025-03-07T20:12:32.691238Z",
     "iopub.status.idle": "2025-03-07T20:12:32.713580Z",
     "shell.execute_reply": "2025-03-07T20:12:32.712565Z",
     "shell.execute_reply.started": "2025-03-07T20:12:32.692356Z"
    }
   },
   "outputs": [],
   "source": [
    "import io\n",
    "import os\n",
    "import base64\n",
    "import pickle\n",
    "import requests\n",
    "import numpy as np\n",
    "import pandas as pd\n",
    "\n",
    "import utils\n",
    "\n",
    "from concurrent.futures import ThreadPoolExecutor\n",
    "from typing import List, Optional\n",
    "from PIL import Image\n",
    "from IPython.display import display\n",
    "\n",
    "CIFAR_PATH = 'data/cifar-100-python/'\n",
    "API_URL = 'http://localhost:8210/embeddings/'\n",
    "SAMPLE_NUM = 10000\n",
    "CSV_PATH = './data'"
   ]
  },
  {
   "cell_type": "markdown",
   "id": "c6cee6c1-b750-4ceb-a3a6-50202aa66861",
   "metadata": {},
   "source": [
    "## 1. 下载 CIFAR-100 数据集\n",
    "\n",
    "打开 CIFAR-100 数据集下载页 ([https://www.cs.toronto.edu/~kriz/cifar.html](https://www.cs.toronto.edu/~kriz/cifar.html))，点击链接 [CIFAR-100 python version](https://www.cs.toronto.edu/~kriz/cifar-100-python.tar.gz) 下载数据集。\n",
    "\n",
    "将压缩包 `cifar-100-python.tar.gz` 放在项目的 `./data` 路径下并解压：\n",
    "\n",
    "```bash\n",
    "cd data\n",
    "tar -xvzf cifar-100-python.tar.gz\n",
    "```"
   ]
  },
  {
   "cell_type": "code",
   "execution_count": 14,
   "id": "12eb6208-141a-479f-95f4-59316c7d3eae",
   "metadata": {
    "execution": {
     "iopub.execute_input": "2025-03-07T20:12:33.565016Z",
     "iopub.status.busy": "2025-03-07T20:12:33.565016Z",
     "iopub.status.idle": "2025-03-07T20:12:33.572970Z",
     "shell.execute_reply": "2025-03-07T20:12:33.571964Z",
     "shell.execute_reply.started": "2025-03-07T20:12:33.565016Z"
    }
   },
   "outputs": [],
   "source": [
    "def load_cifar100_batch(file_path):\n",
    "    with open(file_path, 'rb') as f:\n",
    "        data = pickle.load(f, encoding='bytes')\n",
    "\n",
    "    # 解析数据\n",
    "    images = data[b'data']\n",
    "    labels = data[b'fine_labels']  # 细粒度标签（100类）\n",
    "\n",
    "    # 转换图像格式（3072=32x32x3）\n",
    "    images = images.reshape(-1, 3, 32, 32).transpose(0, 2, 3, 1)\n",
    "\n",
    "    return images, labels\n",
    "\n",
    "def preprocess_image(image):\n",
    "    # 若数据格式为 CHW（如 CIFAR-100），转为 HWC\n",
    "    if image.shape[0] in (1, 3):  # 灰度图或 RGB 图\n",
    "        image = image.transpose(1, 2, 0)\n",
    "    # 若数据被归一化到 [0, 1]，还原为 [0, 255]\n",
    "    if np.max(image) <= 1.0:\n",
    "        image = (image * 255).astype(np.uint8)\n",
    "    return image\n",
    "\n",
    "def show_image(idx):\n",
    "    if idx < len(train_images):\n",
    "        image = train_images[idx]\n",
    "        image = preprocess_image(image)\n",
    "        display(Image.fromarray(image))\n",
    "    else:\n",
    "        print(f'max idx: {len(train_images) - 1}')"
   ]
  },
  {
   "cell_type": "code",
   "execution_count": 15,
   "id": "2c4f03aa-a8f8-4815-8e41-7ff2d0cd0f43",
   "metadata": {
    "execution": {
     "iopub.execute_input": "2025-03-07T20:12:47.952629Z",
     "iopub.status.busy": "2025-03-07T20:12:47.951626Z",
     "iopub.status.idle": "2025-03-07T20:12:48.067672Z",
     "shell.execute_reply": "2025-03-07T20:12:48.067672Z",
     "shell.execute_reply.started": "2025-03-07T20:12:47.952629Z"
    }
   },
   "outputs": [
    {
     "data": {
      "text/plain": [
       "(50000, 10000)"
      ]
     },
     "execution_count": 15,
     "metadata": {},
     "output_type": "execute_result"
    }
   ],
   "source": [
    "# 加载训练集和测试集\n",
    "train_images, train_labels = load_cifar100_batch(os.path.join(CIFAR_PATH, 'train'))\n",
    "test_images, test_labels = load_cifar100_batch(os.path.join(CIFAR_PATH, 'test'))\n",
    "\n",
    "len(train_images), len(test_images)"
   ]
  },
  {
   "cell_type": "code",
   "execution_count": 16,
   "id": "bfddc405-8557-45e2-97e6-e84b4eb1db15",
   "metadata": {
    "execution": {
     "iopub.execute_input": "2025-03-07T20:12:48.850414Z",
     "iopub.status.busy": "2025-03-07T20:12:48.849415Z",
     "iopub.status.idle": "2025-03-07T20:12:48.862366Z",
     "shell.execute_reply": "2025-03-07T20:12:48.861357Z",
     "shell.execute_reply.started": "2025-03-07T20:12:48.850414Z"
    }
   },
   "outputs": [
    {
     "data": {
      "image/jpeg": "[encoded data removed]",
      "image/png": "[encoded data removed]",
      "text/plain": [
       "<PIL.Image.Image image mode=RGB size=32x32>"
      ]
     },
     "metadata": {},
     "output_type": "display_data"
    }
   ],
   "source": [
    "# 展示第 idx 张图片\n",
    "show_image(idx=1231)"
   ]
  },
  {
   "cell_type": "markdown",
   "id": "b8064d73-0945-4889-a515-493740246446",
   "metadata": {},
   "source": [
    "## 2. 图片转 Embedding\n",
    "\n",
    "我们把图片转成 Embedding，然后用 DataFrame 将图片 Embedding 和图片标签存成一条记录。\n",
    "\n",
    "启动 DINOv2 模型推理 API：\n",
    "\n",
    "```bash\n",
    "cd server\n",
    "python dinov2_server.py\n",
    "```"
   ]
  },
  {
   "cell_type": "code",
   "execution_count": 17,
   "id": "69fdb944-bd67-41bb-a5f2-a14e25fd1d6c",
   "metadata": {
    "execution": {
     "iopub.execute_input": "2025-03-07T20:12:49.814261Z",
     "iopub.status.busy": "2025-03-07T20:12:49.814261Z",
     "iopub.status.idle": "2025-03-07T20:12:52.084741Z",
     "shell.execute_reply": "2025-03-07T20:12:52.083736Z",
     "shell.execute_reply.started": "2025-03-07T20:12:49.814261Z"
    }
   },
   "outputs": [
    {
     "data": {
      "text/plain": [
       "(2, 768)"
      ]
     },
     "execution_count": 17,
     "metadata": {},
     "output_type": "execute_result"
    }
   ],
   "source": [
    "# 测试 API 连通性\n",
    "image_paths = [\n",
    "    './img/cat.jpg',\n",
    "    './img/book.jpg'\n",
    "]\n",
    "base64_images = [utils.image_to_base64(p) for p in image_paths]\n",
    "res = utils.client(base64_images, api_url=API_URL)\n",
    "np.array(res.json().get('embeddings')).shape"
   ]
  },
  {
   "cell_type": "code",
   "execution_count": 18,
   "id": "b5a06473-3a23-48e9-88d5-a866dfc6daf0",
   "metadata": {
    "execution": {
     "iopub.execute_input": "2025-03-07T20:12:52.084741Z",
     "iopub.status.busy": "2025-03-07T20:12:52.084741Z",
     "iopub.status.idle": "2025-03-07T20:12:52.090740Z",
     "shell.execute_reply": "2025-03-07T20:12:52.090740Z",
     "shell.execute_reply.started": "2025-03-07T20:12:52.084741Z"
    }
   },
   "outputs": [],
   "source": [
    "BATCH_SIZE = 8\n",
    "MAX_WORKERS = 2\n",
    "\n",
    "def to_base64(image):\n",
    "    # 预处理图像\n",
    "    image = preprocess_image(image)  \n",
    "\n",
    "    # 编码为 Base64 字符串\n",
    "    pil_img = Image.fromarray(image)\n",
    "    buffer = io.BytesIO()  # 保存到内存缓冲区（格式可选 PNG/JPEG）\n",
    "    pil_img.save(buffer, format=\"PNG\")\n",
    "    img_base64 = base64.b64encode(buffer.getvalue()).decode(\"utf-8\")\n",
    "\n",
    "    return img_base64\n",
    "\n",
    "def split_list(lst, batch_size=BATCH_SIZE):\n",
    "    return [lst[i:i + batch_size] for i in range(0, len(lst), batch_size)]\n",
    "\n",
    "def batch_processor(images, max_tries=2):\n",
    "    base64_images = [to_base64(e) for e in images]\n",
    "    for _ in range(max_tries):\n",
    "        response = utils.client(base64_images, api_url=API_URL)\n",
    "        if response.status_code == 200:\n",
    "            embeddings = response.json().get('embeddings')\n",
    "            if len(embeddings) != len(images):\n",
    "                print('Error: len(embeddings) != len(images)')\n",
    "                break\n",
    "            return embeddings\n",
    "    return [None * len(images)]\n",
    "\n",
    "def gen_image_embed(images):\n",
    "    image_batches = split_list(images)\n",
    "\n",
    "    results = []\n",
    "    with ThreadPoolExecutor(max_workers=MAX_WORKERS) as executor:\n",
    "        futures = executor.map(batch_processor, image_batches)\n",
    "        for result in futures:\n",
    "            results.extend(result)\n",
    "\n",
    "    assert len(results) == len(images), f'len(results)={len(results)}, len(images)={len(images)}'\n",
    "    return results"
   ]
  },
  {
   "cell_type": "code",
   "execution_count": 19,
   "id": "31b25700-96ee-4a05-b19b-e936944a6271",
   "metadata": {
    "execution": {
     "iopub.execute_input": "2025-03-07T20:12:52.090740Z",
     "iopub.status.busy": "2025-03-07T20:12:52.090740Z",
     "iopub.status.idle": "2025-03-07T20:36:51.481395Z",
     "shell.execute_reply": "2025-03-07T20:36:51.480880Z",
     "shell.execute_reply.started": "2025-03-07T20:12:52.090740Z"
    }
   },
   "outputs": [],
   "source": [
    "train_embeddings = gen_image_embed(images=train_images[:SAMPLE_NUM])"
   ]
  },
  {
   "cell_type": "code",
   "execution_count": 20,
   "id": "ee393d9b-f55b-413d-8873-4cc683cd28e2",
   "metadata": {
    "execution": {
     "iopub.execute_input": "2025-03-07T20:36:51.482400Z",
     "iopub.status.busy": "2025-03-07T20:36:51.482400Z",
     "iopub.status.idle": "2025-03-07T20:36:51.496407Z",
     "shell.execute_reply": "2025-03-07T20:36:51.496407Z",
     "shell.execute_reply.started": "2025-03-07T20:36:51.482400Z"
    }
   },
   "outputs": [
    {
     "data": {
      "text/html": [
       "<div>\n",
       "<style scoped>\n",
       "    .dataframe tbody tr th:only-of-type {\n",
       "        vertical-align: middle;\n",
       "    }\n",
       "\n",
       "    .dataframe tbody tr th {\n",
       "        vertical-align: top;\n",
       "    }\n",
       "\n",
       "    .dataframe thead th {\n",
       "        text-align: right;\n",
       "    }\n",
       "</style>\n",
       "<table border=\"1\" class=\"dataframe\">\n",
       "  <thead>\n",
       "    <tr style=\"text-align: right;\">\n",
       "      <th></th>\n",
       "      <th>embeddings</th>\n",
       "      <th>labels</th>\n",
       "    </tr>\n",
       "  </thead>\n",
       "  <tbody>\n",
       "    <tr>\n",
       "      <th>0</th>\n",
       "      <td>[-0.04898432269692421, 0.004301051609218121, 0...</td>\n",
       "      <td>49</td>\n",
       "    </tr>\n",
       "    <tr>\n",
       "      <th>1</th>\n",
       "      <td>[-0.030251776799559593, 0.054930735379457474, ...</td>\n",
       "      <td>33</td>\n",
       "    </tr>\n",
       "    <tr>\n",
       "      <th>2</th>\n",
       "      <td>[0.018033478409051895, -0.0241413451731205, 0....</td>\n",
       "      <td>72</td>\n",
       "    </tr>\n",
       "    <tr>\n",
       "      <th>3</th>\n",
       "      <td>[0.0965263620018959, 0.022365640848875046, 0.0...</td>\n",
       "      <td>51</td>\n",
       "    </tr>\n",
       "    <tr>\n",
       "      <th>4</th>\n",
       "      <td>[-0.007981446571648121, -0.03037705458700657, ...</td>\n",
       "      <td>71</td>\n",
       "    </tr>\n",
       "  </tbody>\n",
       "</table>\n",
       "</div>"
      ],
      "text/plain": [
       "                                          embeddings  labels\n",
       "0  [-0.04898432269692421, 0.004301051609218121, 0...      49\n",
       "1  [-0.030251776799559593, 0.054930735379457474, ...      33\n",
       "2  [0.018033478409051895, -0.0241413451731205, 0....      72\n",
       "3  [0.0965263620018959, 0.022365640848875046, 0.0...      51\n",
       "4  [-0.007981446571648121, -0.03037705458700657, ...      71"
      ]
     },
     "execution_count": 20,
     "metadata": {},
     "output_type": "execute_result"
    }
   ],
   "source": [
    "# 将 Embedding 和 label 存成 DataFrame\n",
    "embed_df = pd.DataFrame({\n",
    "    'embeddings': train_embeddings,\n",
    "    'labels': train_labels[:SAMPLE_NUM]\n",
    "})\n",
    "embed_df.head()"
   ]
  },
  {
   "cell_type": "code",
   "execution_count": 21,
   "id": "469d335b-5c1a-4c97-8e38-80fab2e44cd3",
   "metadata": {
    "execution": {
     "iopub.execute_input": "2025-03-07T20:36:51.496407Z",
     "iopub.status.busy": "2025-03-07T20:36:51.496407Z",
     "iopub.status.idle": "2025-03-07T20:36:51.500486Z",
     "shell.execute_reply": "2025-03-07T20:36:51.500486Z",
     "shell.execute_reply.started": "2025-03-07T20:36:51.496407Z"
    }
   },
   "outputs": [
    {
     "data": {
      "text/plain": [
       "list"
      ]
     },
     "execution_count": 21,
     "metadata": {},
     "output_type": "execute_result"
    }
   ],
   "source": [
    "type(train_embeddings[0])"
   ]
  },
  {
   "cell_type": "code",
   "execution_count": 22,
   "id": "92191696-cb57-40e6-931f-a02e0ce2cbde",
   "metadata": {
    "execution": {
     "iopub.execute_input": "2025-03-07T20:36:51.500486Z",
     "iopub.status.busy": "2025-03-07T20:36:51.500486Z",
     "iopub.status.idle": "2025-03-07T20:36:55.895230Z",
     "shell.execute_reply": "2025-03-07T20:36:55.895230Z",
     "shell.execute_reply.started": "2025-03-07T20:36:51.500486Z"
    }
   },
   "outputs": [],
   "source": [
    "# 将 DataFrame 存成 csv\n",
    "embed_csv_path = os.path.join(CSV_PATH, 'embed_label.csv')\n",
    "utils.embedding_df_to_csv(df=embed_df,\n",
    "                          csv_path=embed_csv_path,\n",
    "                          ebd_cols=['embeddings'])"
   ]
  },
  {
   "cell_type": "code",
   "execution_count": 23,
   "id": "9fd31060-e982-463a-9384-1d73d812dc36",
   "metadata": {
    "execution": {
     "iopub.execute_input": "2025-03-07T20:36:55.896254Z",
     "iopub.status.busy": "2025-03-07T20:36:55.896254Z",
     "iopub.status.idle": "2025-03-07T20:37:16.959476Z",
     "shell.execute_reply": "2025-03-07T20:37:16.959476Z",
     "shell.execute_reply.started": "2025-03-07T20:36:55.896254Z"
    }
   },
   "outputs": [
    {
     "data": {
      "text/plain": [
       "10000"
      ]
     },
     "execution_count": 23,
     "metadata": {},
     "output_type": "execute_result"
    }
   ],
   "source": [
    "# 将 csv 读入 DataFrame\n",
    "embed_df = utils.read_embedding_csv(csv_path=embed_csv_path,\n",
    "                                    ebd_cols=['embeddings'])\n",
    "len(embed_df)"
   ]
  },
  {
   "cell_type": "code",
   "execution_count": 24,
   "id": "a2433a38-8856-4554-8b1e-5137f98fc31a",
   "metadata": {
    "execution": {
     "iopub.execute_input": "2025-03-07T20:37:16.961480Z",
     "iopub.status.busy": "2025-03-07T20:37:16.960481Z",
     "iopub.status.idle": "2025-03-07T20:37:16.967552Z",
     "shell.execute_reply": "2025-03-07T20:37:16.967552Z",
     "shell.execute_reply.started": "2025-03-07T20:37:16.961480Z"
    }
   },
   "outputs": [
    {
     "data": {
      "text/html": [
       "<div>\n",
       "<style scoped>\n",
       "    .dataframe tbody tr th:only-of-type {\n",
       "        vertical-align: middle;\n",
       "    }\n",
       "\n",
       "    .dataframe tbody tr th {\n",
       "        vertical-align: top;\n",
       "    }\n",
       "\n",
       "    .dataframe thead th {\n",
       "        text-align: right;\n",
       "    }\n",
       "</style>\n",
       "<table border=\"1\" class=\"dataframe\">\n",
       "  <thead>\n",
       "    <tr style=\"text-align: right;\">\n",
       "      <th></th>\n",
       "      <th>embeddings</th>\n",
       "      <th>labels</th>\n",
       "    </tr>\n",
       "  </thead>\n",
       "  <tbody>\n",
       "    <tr>\n",
       "      <th>0</th>\n",
       "      <td>[-0.04898432269692421, 0.004301051609218121, 0...</td>\n",
       "      <td>49</td>\n",
       "    </tr>\n",
       "    <tr>\n",
       "      <th>1</th>\n",
       "      <td>[-0.030251776799559593, 0.054930735379457474, ...</td>\n",
       "      <td>33</td>\n",
       "    </tr>\n",
       "    <tr>\n",
       "      <th>2</th>\n",
       "      <td>[0.018033478409051895, -0.0241413451731205, 0....</td>\n",
       "      <td>72</td>\n",
       "    </tr>\n",
       "    <tr>\n",
       "      <th>3</th>\n",
       "      <td>[0.0965263620018959, 0.022365640848875046, 0.0...</td>\n",
       "      <td>51</td>\n",
       "    </tr>\n",
       "    <tr>\n",
       "      <th>4</th>\n",
       "      <td>[-0.007981446571648121, -0.03037705458700657, ...</td>\n",
       "      <td>71</td>\n",
       "    </tr>\n",
       "  </tbody>\n",
       "</table>\n",
       "</div>"
      ],
      "text/plain": [
       "                                          embeddings  labels\n",
       "0  [-0.04898432269692421, 0.004301051609218121, 0...      49\n",
       "1  [-0.030251776799559593, 0.054930735379457474, ...      33\n",
       "2  [0.018033478409051895, -0.0241413451731205, 0....      72\n",
       "3  [0.0965263620018959, 0.022365640848875046, 0.0...      51\n",
       "4  [-0.007981446571648121, -0.03037705458700657, ...      71"
      ]
     },
     "execution_count": 24,
     "metadata": {},
     "output_type": "execute_result"
    }
   ],
   "source": [
    "embed_df.head()"
   ]
  },
  {
   "cell_type": "code",
   "execution_count": null,
   "id": "46d51061-c3d8-4be5-83c9-0fda44a67224",
   "metadata": {},
   "outputs": [],
   "source": []
  }
 ],
 "metadata": {
  "kernelspec": {
   "display_name": "Python 3 (ipykernel)",
   "language": "python",
   "name": "python3"
  },
  "language_info": {
   "codemirror_mode": {
    "name": "ipython",
    "version": 3
   },
   "file_extension": ".py",
   "mimetype": "text/x-python",
   "name": "python",
   "nbconvert_exporter": "python",
   "pygments_lexer": "ipython3",
   "version": "3.12.3"
  }
 },
 "nbformat": 4,
 "nbformat_minor": 5
}
