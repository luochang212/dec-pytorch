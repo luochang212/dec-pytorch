{
 "cells": [
  {
   "cell_type": "markdown",
   "id": "d4d0dfc7-203f-43fd-a968-ede560bb57aa",
   "metadata": {
    "execution": {
     "iopub.execute_input": "2025-03-09T08:59:42.965202Z",
     "iopub.status.busy": "2025-03-09T08:59:42.965202Z",
     "iopub.status.idle": "2025-03-09T08:59:42.970634Z",
     "shell.execute_reply": "2025-03-09T08:59:42.969628Z",
     "shell.execute_reply.started": "2025-03-09T08:59:42.965202Z"
    }
   },
   "source": [
    "# 对比传统聚类算法\n",
    "\n",
    "在同一个数据集上，对比 DEC 与 K-Means, DBSCAN 两种传统聚类算法的效果。"
   ]
  },
  {
   "cell_type": "code",
   "execution_count": 1,
   "id": "f7919228-29d9-4c4f-8df7-eb2e43f6f422",
   "metadata": {
    "execution": {
     "iopub.execute_input": "2025-03-09T11:44:43.937403Z",
     "iopub.status.busy": "2025-03-09T11:44:43.936402Z",
     "iopub.status.idle": "2025-03-09T11:44:45.628064Z",
     "shell.execute_reply": "2025-03-09T11:44:45.628064Z",
     "shell.execute_reply.started": "2025-03-09T11:44:43.937403Z"
    }
   },
   "outputs": [],
   "source": [
    "import os\n",
    "import numpy as np\n",
    "\n",
    "import utils\n",
    "\n",
    "from typing import Optional\n",
    "from sklearn.cluster import KMeans, DBSCAN\n",
    "from scipy.optimize import linear_sum_assignment\n",
    "\n",
    "CSV_PATH = './data'\n",
    "\n",
    "os.environ[\"LOKY_MAX_CPU_COUNT\"] = \"4\""
   ]
  },
  {
   "cell_type": "markdown",
   "id": "a2fe8644-f3e9-4ce0-9ef8-36df7c856056",
   "metadata": {},
   "source": [
    "## 1. 加载数据"
   ]
  },
  {
   "cell_type": "code",
   "execution_count": 2,
   "id": "869fc5d5-d569-450f-ab03-d039602670fc",
   "metadata": {
    "execution": {
     "iopub.execute_input": "2025-03-09T11:44:45.630078Z",
     "iopub.status.busy": "2025-03-09T11:44:45.629078Z",
     "iopub.status.idle": "2025-03-09T11:45:06.678048Z",
     "shell.execute_reply": "2025-03-09T11:45:06.678048Z",
     "shell.execute_reply.started": "2025-03-09T11:44:45.630078Z"
    }
   },
   "outputs": [
    {
     "data": {
      "text/plain": [
       "(10000, 100)"
      ]
     },
     "execution_count": 2,
     "metadata": {},
     "output_type": "execute_result"
    }
   ],
   "source": [
    "# 将 csv 读入 DataFrame\n",
    "train_csv_path = os.path.join(CSV_PATH, 'train_embed_label.csv')\n",
    "train_df = utils.read_embedding_csv(csv_path=train_csv_path,\n",
    "                                    ebd_cols=['embeddings'])\n",
    "train_embeds = np.array(train_df['embeddings'].tolist())\n",
    "train_labels = train_df['labels'].values\n",
    "\n",
    "len(train_df), len(set(train_df['labels'].tolist()))"
   ]
  },
  {
   "cell_type": "code",
   "execution_count": 3,
   "id": "fb892491-c444-45bc-b41c-8b8007b045a4",
   "metadata": {
    "execution": {
     "iopub.execute_input": "2025-03-09T11:45:06.679054Z",
     "iopub.status.busy": "2025-03-09T11:45:06.679054Z",
     "iopub.status.idle": "2025-03-09T11:45:06.689200Z",
     "shell.execute_reply": "2025-03-09T11:45:06.688195Z",
     "shell.execute_reply.started": "2025-03-09T11:45:06.679054Z"
    }
   },
   "outputs": [
    {
     "data": {
      "text/html": [
       "<div>\n",
       "<style scoped>\n",
       "    .dataframe tbody tr th:only-of-type {\n",
       "        vertical-align: middle;\n",
       "    }\n",
       "\n",
       "    .dataframe tbody tr th {\n",
       "        vertical-align: top;\n",
       "    }\n",
       "\n",
       "    .dataframe thead th {\n",
       "        text-align: right;\n",
       "    }\n",
       "</style>\n",
       "<table border=\"1\" class=\"dataframe\">\n",
       "  <thead>\n",
       "    <tr style=\"text-align: right;\">\n",
       "      <th></th>\n",
       "      <th>embeddings</th>\n",
       "      <th>labels</th>\n",
       "    </tr>\n",
       "  </thead>\n",
       "  <tbody>\n",
       "    <tr>\n",
       "      <th>0</th>\n",
       "      <td>[0.013868028298020363, -0.01785886101424694, 0...</td>\n",
       "      <td>19</td>\n",
       "    </tr>\n",
       "    <tr>\n",
       "      <th>1</th>\n",
       "      <td>[0.03667556121945381, -0.08648686856031418, 0....</td>\n",
       "      <td>29</td>\n",
       "    </tr>\n",
       "    <tr>\n",
       "      <th>2</th>\n",
       "      <td>[0.0741165354847908, -0.008068534545600414, 0....</td>\n",
       "      <td>0</td>\n",
       "    </tr>\n",
       "    <tr>\n",
       "      <th>3</th>\n",
       "      <td>[-0.034709382802248, 0.048253390938043594, -0....</td>\n",
       "      <td>11</td>\n",
       "    </tr>\n",
       "    <tr>\n",
       "      <th>4</th>\n",
       "      <td>[-0.06292618066072464, 0.06838615983724594, 0....</td>\n",
       "      <td>1</td>\n",
       "    </tr>\n",
       "  </tbody>\n",
       "</table>\n",
       "</div>"
      ],
      "text/plain": [
       "                                          embeddings  labels\n",
       "0  [0.013868028298020363, -0.01785886101424694, 0...      19\n",
       "1  [0.03667556121945381, -0.08648686856031418, 0....      29\n",
       "2  [0.0741165354847908, -0.008068534545600414, 0....       0\n",
       "3  [-0.034709382802248, 0.048253390938043594, -0....      11\n",
       "4  [-0.06292618066072464, 0.06838615983724594, 0....       1"
      ]
     },
     "execution_count": 3,
     "metadata": {},
     "output_type": "execute_result"
    }
   ],
   "source": [
    "train_df.head()"
   ]
  },
  {
   "cell_type": "markdown",
   "id": "19266bc4-3f05-4064-9c33-a0962d3150c8",
   "metadata": {
    "execution": {
     "iopub.execute_input": "2025-03-09T10:24:48.476629Z",
     "iopub.status.busy": "2025-03-09T10:24:48.475630Z",
     "iopub.status.idle": "2025-03-09T10:24:48.487945Z",
     "shell.execute_reply": "2025-03-09T10:24:48.486937Z",
     "shell.execute_reply.started": "2025-03-09T10:24:48.476629Z"
    }
   },
   "source": [
    "## 2. 评估函数\n",
    "\n",
    "使用 [vlukiyanov/pt-dec](https://github.com/vlukiyanov/pt-dec/blob/master/ptdec/utils.py) 库提供的函数 `cluster_accuracy` 计算准确率 (Accuracy):"
   ]
  },
  {
   "cell_type": "code",
   "execution_count": 4,
   "id": "2cc67ef6-42b9-43d0-909c-edbbbaad65e9",
   "metadata": {
    "execution": {
     "iopub.execute_input": "2025-03-09T11:45:06.690200Z",
     "iopub.status.busy": "2025-03-09T11:45:06.690200Z",
     "iopub.status.idle": "2025-03-09T11:45:06.695261Z",
     "shell.execute_reply": "2025-03-09T11:45:06.695261Z",
     "shell.execute_reply.started": "2025-03-09T11:45:06.690200Z"
    }
   },
   "outputs": [],
   "source": [
    "def cluster_accuracy(y_true, y_predicted, cluster_number: Optional[int] = None):\n",
    "    \"\"\"\n",
    "    Calculate clustering accuracy after using the linear_sum_assignment function in SciPy to\n",
    "    determine reassignments.\n",
    "\n",
    "    :param y_true: list of true cluster numbers, an integer array 0-indexed\n",
    "    :param y_predicted: list  of predicted cluster numbers, an integer array 0-indexed\n",
    "    :param cluster_number: number of clusters, if None then calculated from input\n",
    "    :return: reassignment dictionary, clustering accuracy\n",
    "    \"\"\"\n",
    "    if cluster_number is None:\n",
    "        cluster_number = (\n",
    "            max(y_predicted.max(), y_true.max()) + 1\n",
    "        )  # assume labels are 0-indexed\n",
    "    count_matrix = np.zeros((cluster_number, cluster_number), dtype=np.int64)\n",
    "    for i in range(y_predicted.size):\n",
    "        count_matrix[y_predicted[i], y_true[i]] += 1\n",
    "\n",
    "    row_ind, col_ind = linear_sum_assignment(count_matrix.max() - count_matrix)\n",
    "    reassignment = dict(zip(row_ind, col_ind))\n",
    "    accuracy = count_matrix[row_ind, col_ind].sum() / y_predicted.size\n",
    "    return reassignment, accuracy"
   ]
  },
  {
   "cell_type": "markdown",
   "id": "ee609b5e-74f2-49e1-ae5b-0bddcecc6710",
   "metadata": {
    "execution": {
     "iopub.execute_input": "2025-03-09T10:27:04.607560Z",
     "iopub.status.busy": "2025-03-09T10:27:04.607560Z",
     "iopub.status.idle": "2025-03-09T10:27:04.612075Z",
     "shell.execute_reply": "2025-03-09T10:27:04.611563Z",
     "shell.execute_reply.started": "2025-03-09T10:27:04.607560Z"
    }
   },
   "source": [
    "## 3. K-means 算法\n",
    "\n",
    "K-Means 是一种经典的无监督聚类算法，通过迭代优化将数据点划分为 K 个簇，每个簇由质心（Centroid）代表。\n",
    "\n",
    "1）目标函数\n",
    "\n",
    "最小化所有数据点到其簇质心的距离平方和。\n",
    "\n",
    "$J = \\sum_{i=1}^{k} \\sum_{x_j \\in C_i} \\|x_j - \\mu_i\\|^2$\n",
    "\n",
    "其中：\n",
    "\n",
    "- $k$ 是预设的簇数\n",
    "- $C_{i}$ 表示第 $i$ 个簇 \n",
    "- $x_{j}$ 是数据点\n",
    "- $\\mu_{i}$ 是第 $i$ 个簇的中心\n",
    "\n",
    "2）算法步骤\n",
    "\n",
    "1. **初始化**：随机选择 K 个质心（或使用优化方法如 k-means++）\n",
    "2. **分配簇**：将每个数据点分配到最近的质心\n",
    "3. **更新质心**：计算每个簇中所有点的平均值，更新质心位置\n",
    "4. **重复**：直到质心不再变化或达到最大迭代次数"
   ]
  },
  {
   "cell_type": "code",
   "execution_count": 5,
   "id": "c68f9952-6e1c-4c11-9580-fa1e32448de9",
   "metadata": {
    "execution": {
     "iopub.execute_input": "2025-03-09T11:45:06.696266Z",
     "iopub.status.busy": "2025-03-09T11:45:06.696266Z",
     "iopub.status.idle": "2025-03-09T11:45:07.189213Z",
     "shell.execute_reply": "2025-03-09T11:45:07.189213Z",
     "shell.execute_reply.started": "2025-03-09T11:45:06.696266Z"
    }
   },
   "outputs": [
    {
     "data": {
      "text/html": [
       "<style>#sk-container-id-1 {\n",
       "  /* Definition of color scheme common for light and dark mode */\n",
       "  --sklearn-color-text: #000;\n",
       "  --sklearn-color-text-muted: #666;\n",
       "  --sklearn-color-line: gray;\n",
       "  /* Definition of color scheme for unfitted estimators */\n",
       "  --sklearn-color-unfitted-level-0: #fff5e6;\n",
       "  --sklearn-color-unfitted-level-1: #f6e4d2;\n",
       "  --sklearn-color-unfitted-level-2: #ffe0b3;\n",
       "  --sklearn-color-unfitted-level-3: chocolate;\n",
       "  /* Definition of color scheme for fitted estimators */\n",
       "  --sklearn-color-fitted-level-0: #f0f8ff;\n",
       "  --sklearn-color-fitted-level-1: #d4ebff;\n",
       "  --sklearn-color-fitted-level-2: #b3dbfd;\n",
       "  --sklearn-color-fitted-level-3: cornflowerblue;\n",
       "\n",
       "  /* Specific color for light theme */\n",
       "  --sklearn-color-text-on-default-background: var(--sg-text-color, var(--theme-code-foreground, var(--jp-content-font-color1, black)));\n",
       "  --sklearn-color-background: var(--sg-background-color, var(--theme-background, var(--jp-layout-color0, white)));\n",
       "  --sklearn-color-border-box: var(--sg-text-color, var(--theme-code-foreground, var(--jp-content-font-color1, black)));\n",
       "  --sklearn-color-icon: #696969;\n",
       "\n",
       "  @media (prefers-color-scheme: dark) {\n",
       "    /* Redefinition of color scheme for dark theme */\n",
       "    --sklearn-color-text-on-default-background: var(--sg-text-color, var(--theme-code-foreground, var(--jp-content-font-color1, white)));\n",
       "    --sklearn-color-background: var(--sg-background-color, var(--theme-background, var(--jp-layout-color0, #111)));\n",
       "    --sklearn-color-border-box: var(--sg-text-color, var(--theme-code-foreground, var(--jp-content-font-color1, white)));\n",
       "    --sklearn-color-icon: #878787;\n",
       "  }\n",
       "}\n",
       "\n",
       "#sk-container-id-1 {\n",
       "  color: var(--sklearn-color-text);\n",
       "}\n",
       "\n",
       "#sk-container-id-1 pre {\n",
       "  padding: 0;\n",
       "}\n",
       "\n",
       "#sk-container-id-1 input.sk-hidden--visually {\n",
       "  border: 0;\n",
       "  clip: rect(1px 1px 1px 1px);\n",
       "  clip: rect(1px, 1px, 1px, 1px);\n",
       "  height: 1px;\n",
       "  margin: -1px;\n",
       "  overflow: hidden;\n",
       "  padding: 0;\n",
       "  position: absolute;\n",
       "  width: 1px;\n",
       "}\n",
       "\n",
       "#sk-container-id-1 div.sk-dashed-wrapped {\n",
       "  border: 1px dashed var(--sklearn-color-line);\n",
       "  margin: 0 0.4em 0.5em 0.4em;\n",
       "  box-sizing: border-box;\n",
       "  padding-bottom: 0.4em;\n",
       "  background-color: var(--sklearn-color-background);\n",
       "}\n",
       "\n",
       "#sk-container-id-1 div.sk-container {\n",
       "  /* jupyter's `normalize.less` sets `[hidden] { display: none; }`\n",
       "     but bootstrap.min.css set `[hidden] { display: none !important; }`\n",
       "     so we also need the `!important` here to be able to override the\n",
       "     default hidden behavior on the sphinx rendered scikit-learn.org.\n",
       "     See: https://github.com/scikit-learn/scikit-learn/issues/21755 */\n",
       "  display: inline-block !important;\n",
       "  position: relative;\n",
       "}\n",
       "\n",
       "#sk-container-id-1 div.sk-text-repr-fallback {\n",
       "  display: none;\n",
       "}\n",
       "\n",
       "div.sk-parallel-item,\n",
       "div.sk-serial,\n",
       "div.sk-item {\n",
       "  /* draw centered vertical line to link estimators */\n",
       "  background-image: linear-gradient(var(--sklearn-color-text-on-default-background), var(--sklearn-color-text-on-default-background));\n",
       "  background-size: 2px 100%;\n",
       "  background-repeat: no-repeat;\n",
       "  background-position: center center;\n",
       "}\n",
       "\n",
       "/* Parallel-specific style estimator block */\n",
       "\n",
       "#sk-container-id-1 div.sk-parallel-item::after {\n",
       "  content: \"\";\n",
       "  width: 100%;\n",
       "  border-bottom: 2px solid var(--sklearn-color-text-on-default-background);\n",
       "  flex-grow: 1;\n",
       "}\n",
       "\n",
       "#sk-container-id-1 div.sk-parallel {\n",
       "  display: flex;\n",
       "  align-items: stretch;\n",
       "  justify-content: center;\n",
       "  background-color: var(--sklearn-color-background);\n",
       "  position: relative;\n",
       "}\n",
       "\n",
       "#sk-container-id-1 div.sk-parallel-item {\n",
       "  display: flex;\n",
       "  flex-direction: column;\n",
       "}\n",
       "\n",
       "#sk-container-id-1 div.sk-parallel-item:first-child::after {\n",
       "  align-self: flex-end;\n",
       "  width: 50%;\n",
       "}\n",
       "\n",
       "#sk-container-id-1 div.sk-parallel-item:last-child::after {\n",
       "  align-self: flex-start;\n",
       "  width: 50%;\n",
       "}\n",
       "\n",
       "#sk-container-id-1 div.sk-parallel-item:only-child::after {\n",
       "  width: 0;\n",
       "}\n",
       "\n",
       "/* Serial-specific style estimator block */\n",
       "\n",
       "#sk-container-id-1 div.sk-serial {\n",
       "  display: flex;\n",
       "  flex-direction: column;\n",
       "  align-items: center;\n",
       "  background-color: var(--sklearn-color-background);\n",
       "  padding-right: 1em;\n",
       "  padding-left: 1em;\n",
       "}\n",
       "\n",
       "\n",
       "/* Toggleable style: style used for estimator/Pipeline/ColumnTransformer box that is\n",
       "clickable and can be expanded/collapsed.\n",
       "- Pipeline and ColumnTransformer use this feature and define the default style\n",
       "- Estimators will overwrite some part of the style using the `sk-estimator` class\n",
       "*/\n",
       "\n",
       "/* Pipeline and ColumnTransformer style (default) */\n",
       "\n",
       "#sk-container-id-1 div.sk-toggleable {\n",
       "  /* Default theme specific background. It is overwritten whether we have a\n",
       "  specific estimator or a Pipeline/ColumnTransformer */\n",
       "  background-color: var(--sklearn-color-background);\n",
       "}\n",
       "\n",
       "/* Toggleable label */\n",
       "#sk-container-id-1 label.sk-toggleable__label {\n",
       "  cursor: pointer;\n",
       "  display: flex;\n",
       "  width: 100%;\n",
       "  margin-bottom: 0;\n",
       "  padding: 0.5em;\n",
       "  box-sizing: border-box;\n",
       "  text-align: center;\n",
       "  align-items: start;\n",
       "  justify-content: space-between;\n",
       "  gap: 0.5em;\n",
       "}\n",
       "\n",
       "#sk-container-id-1 label.sk-toggleable__label .caption {\n",
       "  font-size: 0.6rem;\n",
       "  font-weight: lighter;\n",
       "  color: var(--sklearn-color-text-muted);\n",
       "}\n",
       "\n",
       "#sk-container-id-1 label.sk-toggleable__label-arrow:before {\n",
       "  /* Arrow on the left of the label */\n",
       "  content: \"▸\";\n",
       "  float: left;\n",
       "  margin-right: 0.25em;\n",
       "  color: var(--sklearn-color-icon);\n",
       "}\n",
       "\n",
       "#sk-container-id-1 label.sk-toggleable__label-arrow:hover:before {\n",
       "  color: var(--sklearn-color-text);\n",
       "}\n",
       "\n",
       "/* Toggleable content - dropdown */\n",
       "\n",
       "#sk-container-id-1 div.sk-toggleable__content {\n",
       "  max-height: 0;\n",
       "  max-width: 0;\n",
       "  overflow: hidden;\n",
       "  text-align: left;\n",
       "  /* unfitted */\n",
       "  background-color: var(--sklearn-color-unfitted-level-0);\n",
       "}\n",
       "\n",
       "#sk-container-id-1 div.sk-toggleable__content.fitted {\n",
       "  /* fitted */\n",
       "  background-color: var(--sklearn-color-fitted-level-0);\n",
       "}\n",
       "\n",
       "#sk-container-id-1 div.sk-toggleable__content pre {\n",
       "  margin: 0.2em;\n",
       "  border-radius: 0.25em;\n",
       "  color: var(--sklearn-color-text);\n",
       "  /* unfitted */\n",
       "  background-color: var(--sklearn-color-unfitted-level-0);\n",
       "}\n",
       "\n",
       "#sk-container-id-1 div.sk-toggleable__content.fitted pre {\n",
       "  /* unfitted */\n",
       "  background-color: var(--sklearn-color-fitted-level-0);\n",
       "}\n",
       "\n",
       "#sk-container-id-1 input.sk-toggleable__control:checked~div.sk-toggleable__content {\n",
       "  /* Expand drop-down */\n",
       "  max-height: 200px;\n",
       "  max-width: 100%;\n",
       "  overflow: auto;\n",
       "}\n",
       "\n",
       "#sk-container-id-1 input.sk-toggleable__control:checked~label.sk-toggleable__label-arrow:before {\n",
       "  content: \"▾\";\n",
       "}\n",
       "\n",
       "/* Pipeline/ColumnTransformer-specific style */\n",
       "\n",
       "#sk-container-id-1 div.sk-label input.sk-toggleable__control:checked~label.sk-toggleable__label {\n",
       "  color: var(--sklearn-color-text);\n",
       "  background-color: var(--sklearn-color-unfitted-level-2);\n",
       "}\n",
       "\n",
       "#sk-container-id-1 div.sk-label.fitted input.sk-toggleable__control:checked~label.sk-toggleable__label {\n",
       "  background-color: var(--sklearn-color-fitted-level-2);\n",
       "}\n",
       "\n",
       "/* Estimator-specific style */\n",
       "\n",
       "/* Colorize estimator box */\n",
       "#sk-container-id-1 div.sk-estimator input.sk-toggleable__control:checked~label.sk-toggleable__label {\n",
       "  /* unfitted */\n",
       "  background-color: var(--sklearn-color-unfitted-level-2);\n",
       "}\n",
       "\n",
       "#sk-container-id-1 div.sk-estimator.fitted input.sk-toggleable__control:checked~label.sk-toggleable__label {\n",
       "  /* fitted */\n",
       "  background-color: var(--sklearn-color-fitted-level-2);\n",
       "}\n",
       "\n",
       "#sk-container-id-1 div.sk-label label.sk-toggleable__label,\n",
       "#sk-container-id-1 div.sk-label label {\n",
       "  /* The background is the default theme color */\n",
       "  color: var(--sklearn-color-text-on-default-background);\n",
       "}\n",
       "\n",
       "/* On hover, darken the color of the background */\n",
       "#sk-container-id-1 div.sk-label:hover label.sk-toggleable__label {\n",
       "  color: var(--sklearn-color-text);\n",
       "  background-color: var(--sklearn-color-unfitted-level-2);\n",
       "}\n",
       "\n",
       "/* Label box, darken color on hover, fitted */\n",
       "#sk-container-id-1 div.sk-label.fitted:hover label.sk-toggleable__label.fitted {\n",
       "  color: var(--sklearn-color-text);\n",
       "  background-color: var(--sklearn-color-fitted-level-2);\n",
       "}\n",
       "\n",
       "/* Estimator label */\n",
       "\n",
       "#sk-container-id-1 div.sk-label label {\n",
       "  font-family: monospace;\n",
       "  font-weight: bold;\n",
       "  display: inline-block;\n",
       "  line-height: 1.2em;\n",
       "}\n",
       "\n",
       "#sk-container-id-1 div.sk-label-container {\n",
       "  text-align: center;\n",
       "}\n",
       "\n",
       "/* Estimator-specific */\n",
       "#sk-container-id-1 div.sk-estimator {\n",
       "  font-family: monospace;\n",
       "  border: 1px dotted var(--sklearn-color-border-box);\n",
       "  border-radius: 0.25em;\n",
       "  box-sizing: border-box;\n",
       "  margin-bottom: 0.5em;\n",
       "  /* unfitted */\n",
       "  background-color: var(--sklearn-color-unfitted-level-0);\n",
       "}\n",
       "\n",
       "#sk-container-id-1 div.sk-estimator.fitted {\n",
       "  /* fitted */\n",
       "  background-color: var(--sklearn-color-fitted-level-0);\n",
       "}\n",
       "\n",
       "/* on hover */\n",
       "#sk-container-id-1 div.sk-estimator:hover {\n",
       "  /* unfitted */\n",
       "  background-color: var(--sklearn-color-unfitted-level-2);\n",
       "}\n",
       "\n",
       "#sk-container-id-1 div.sk-estimator.fitted:hover {\n",
       "  /* fitted */\n",
       "  background-color: var(--sklearn-color-fitted-level-2);\n",
       "}\n",
       "\n",
       "/* Specification for estimator info (e.g. \"i\" and \"?\") */\n",
       "\n",
       "/* Common style for \"i\" and \"?\" */\n",
       "\n",
       ".sk-estimator-doc-link,\n",
       "a:link.sk-estimator-doc-link,\n",
       "a:visited.sk-estimator-doc-link {\n",
       "  float: right;\n",
       "  font-size: smaller;\n",
       "  line-height: 1em;\n",
       "  font-family: monospace;\n",
       "  background-color: var(--sklearn-color-background);\n",
       "  border-radius: 1em;\n",
       "  height: 1em;\n",
       "  width: 1em;\n",
       "  text-decoration: none !important;\n",
       "  margin-left: 0.5em;\n",
       "  text-align: center;\n",
       "  /* unfitted */\n",
       "  border: var(--sklearn-color-unfitted-level-1) 1pt solid;\n",
       "  color: var(--sklearn-color-unfitted-level-1);\n",
       "}\n",
       "\n",
       ".sk-estimator-doc-link.fitted,\n",
       "a:link.sk-estimator-doc-link.fitted,\n",
       "a:visited.sk-estimator-doc-link.fitted {\n",
       "  /* fitted */\n",
       "  border: var(--sklearn-color-fitted-level-1) 1pt solid;\n",
       "  color: var(--sklearn-color-fitted-level-1);\n",
       "}\n",
       "\n",
       "/* On hover */\n",
       "div.sk-estimator:hover .sk-estimator-doc-link:hover,\n",
       ".sk-estimator-doc-link:hover,\n",
       "div.sk-label-container:hover .sk-estimator-doc-link:hover,\n",
       ".sk-estimator-doc-link:hover {\n",
       "  /* unfitted */\n",
       "  background-color: var(--sklearn-color-unfitted-level-3);\n",
       "  color: var(--sklearn-color-background);\n",
       "  text-decoration: none;\n",
       "}\n",
       "\n",
       "div.sk-estimator.fitted:hover .sk-estimator-doc-link.fitted:hover,\n",
       ".sk-estimator-doc-link.fitted:hover,\n",
       "div.sk-label-container:hover .sk-estimator-doc-link.fitted:hover,\n",
       ".sk-estimator-doc-link.fitted:hover {\n",
       "  /* fitted */\n",
       "  background-color: var(--sklearn-color-fitted-level-3);\n",
       "  color: var(--sklearn-color-background);\n",
       "  text-decoration: none;\n",
       "}\n",
       "\n",
       "/* Span, style for the box shown on hovering the info icon */\n",
       ".sk-estimator-doc-link span {\n",
       "  display: none;\n",
       "  z-index: 9999;\n",
       "  position: relative;\n",
       "  font-weight: normal;\n",
       "  right: .2ex;\n",
       "  padding: .5ex;\n",
       "  margin: .5ex;\n",
       "  width: min-content;\n",
       "  min-width: 20ex;\n",
       "  max-width: 50ex;\n",
       "  color: var(--sklearn-color-text);\n",
       "  box-shadow: 2pt 2pt 4pt #999;\n",
       "  /* unfitted */\n",
       "  background: var(--sklearn-color-unfitted-level-0);\n",
       "  border: .5pt solid var(--sklearn-color-unfitted-level-3);\n",
       "}\n",
       "\n",
       ".sk-estimator-doc-link.fitted span {\n",
       "  /* fitted */\n",
       "  background: var(--sklearn-color-fitted-level-0);\n",
       "  border: var(--sklearn-color-fitted-level-3);\n",
       "}\n",
       "\n",
       ".sk-estimator-doc-link:hover span {\n",
       "  display: block;\n",
       "}\n",
       "\n",
       "/* \"?\"-specific style due to the `<a>` HTML tag */\n",
       "\n",
       "#sk-container-id-1 a.estimator_doc_link {\n",
       "  float: right;\n",
       "  font-size: 1rem;\n",
       "  line-height: 1em;\n",
       "  font-family: monospace;\n",
       "  background-color: var(--sklearn-color-background);\n",
       "  border-radius: 1rem;\n",
       "  height: 1rem;\n",
       "  width: 1rem;\n",
       "  text-decoration: none;\n",
       "  /* unfitted */\n",
       "  color: var(--sklearn-color-unfitted-level-1);\n",
       "  border: var(--sklearn-color-unfitted-level-1) 1pt solid;\n",
       "}\n",
       "\n",
       "#sk-container-id-1 a.estimator_doc_link.fitted {\n",
       "  /* fitted */\n",
       "  border: var(--sklearn-color-fitted-level-1) 1pt solid;\n",
       "  color: var(--sklearn-color-fitted-level-1);\n",
       "}\n",
       "\n",
       "/* On hover */\n",
       "#sk-container-id-1 a.estimator_doc_link:hover {\n",
       "  /* unfitted */\n",
       "  background-color: var(--sklearn-color-unfitted-level-3);\n",
       "  color: var(--sklearn-color-background);\n",
       "  text-decoration: none;\n",
       "}\n",
       "\n",
       "#sk-container-id-1 a.estimator_doc_link.fitted:hover {\n",
       "  /* fitted */\n",
       "  background-color: var(--sklearn-color-fitted-level-3);\n",
       "}\n",
       "</style><div id=\"sk-container-id-1\" class=\"sk-top-container\"><div class=\"sk-text-repr-fallback\"><pre>KMeans(n_clusters=100, random_state=42)</pre><b>In a Jupyter environment, please rerun this cell to show the HTML representation or trust the notebook. <br />On GitHub, the HTML representation is unable to render, please try loading this page with nbviewer.org.</b></div><div class=\"sk-container\" hidden><div class=\"sk-item\"><div class=\"sk-estimator fitted sk-toggleable\"><input class=\"sk-toggleable__control sk-hidden--visually\" id=\"sk-estimator-id-1\" type=\"checkbox\" checked><label for=\"sk-estimator-id-1\" class=\"sk-toggleable__label fitted sk-toggleable__label-arrow\"><div><div>KMeans</div></div><div><a class=\"sk-estimator-doc-link fitted\" rel=\"noreferrer\" target=\"_blank\" href=\"https://scikit-learn.org/1.6/modules/generated/sklearn.cluster.KMeans.html\">?<span>Documentation for KMeans</span></a><span class=\"sk-estimator-doc-link fitted\">i<span>Fitted</span></span></div></label><div class=\"sk-toggleable__content fitted\"><pre>KMeans(n_clusters=100, random_state=42)</pre></div> </div></div></div></div>"
      ],
      "text/plain": [
       "KMeans(n_clusters=100, random_state=42)"
      ]
     },
     "execution_count": 5,
     "metadata": {},
     "output_type": "execute_result"
    }
   ],
   "source": [
    "# 训练\n",
    "kmeans = KMeans(n_clusters=100, init='k-means++', random_state=42)\n",
    "kmeans.fit(train_embeds)"
   ]
  },
  {
   "cell_type": "code",
   "execution_count": 6,
   "id": "3e49dfc0-a9b7-4e53-ba6a-709f054ff0ed",
   "metadata": {
    "execution": {
     "iopub.execute_input": "2025-03-09T11:45:07.191220Z",
     "iopub.status.busy": "2025-03-09T11:45:07.190221Z",
     "iopub.status.idle": "2025-03-09T11:45:07.196236Z",
     "shell.execute_reply": "2025-03-09T11:45:07.196236Z",
     "shell.execute_reply.started": "2025-03-09T11:45:07.191220Z"
    }
   },
   "outputs": [
    {
     "data": {
      "text/plain": [
       "array([56, 57, 29, ..., 55, 47, 26])"
      ]
     },
     "execution_count": 6,
     "metadata": {},
     "output_type": "execute_result"
    }
   ],
   "source": [
    "# 获取聚类标签\n",
    "y_pred = kmeans.labels_\n",
    "y_pred"
   ]
  },
  {
   "cell_type": "code",
   "execution_count": 7,
   "id": "338ea66d-a288-4847-aede-dc74a1f49b78",
   "metadata": {
    "execution": {
     "iopub.execute_input": "2025-03-09T11:45:07.197594Z",
     "iopub.status.busy": "2025-03-09T11:45:07.197594Z",
     "iopub.status.idle": "2025-03-09T11:45:07.205507Z",
     "shell.execute_reply": "2025-03-09T11:45:07.205507Z",
     "shell.execute_reply.started": "2025-03-09T11:45:07.197594Z"
    }
   },
   "outputs": [
    {
     "name": "stdout",
     "output_type": "stream",
     "text": [
      "accuracy: 0.7025\n"
     ]
    }
   ],
   "source": [
    "# 评估\n",
    "reassignment, accuracy = cluster_accuracy(y_true=train_labels,\n",
    "                                          y_predicted=y_pred,\n",
    "                                          cluster_number=100)\n",
    "print(f'accuracy: {accuracy:.4f}')"
   ]
  },
  {
   "cell_type": "markdown",
   "id": "b4e3ebf4-9535-4be6-bf90-ccb1660c8327",
   "metadata": {},
   "source": [
    "## 4. DBSCAN 算法\n",
    "\n",
    "DBSCAN 是一种基于密度的算法，能发现任意形状的簇。其核心思想是连接高密度区域，将低密度区域视为噪声直接丢弃。与 K-Means 不同，DBSCAN 无须事先指定聚类个数。\n",
    "\n",
    "1）核心参数\n",
    "\n",
    "- **eps**：指定一个点的邻域范围。也就是，某个点的邻域内的其他点如果距离不超过 ε，那么这些点就属于该点的邻居。\n",
    "- **min_samples**：定义一个簇的最小点数。当一个点的邻域内包含至少 min_samples 个点时，这个点被认为是一个核心点（Core Point）。核心点是簇的中心，可以扩展成一个簇。\n",
    "\n",
    "2）DBSCAN 对三种点的定义\n",
    "\n",
    "- **核心点（Core Point）**：如果一个点的邻域内包含至少 MinPts 个点，那么这个点是一个核心点，并且它可以扩展成一个簇。\n",
    "- **边界点（Border Point）**：如果一个点不是核心点，但是它在某个核心点的邻域范围内，那么它被认为是边界点。\n",
    "- **噪声点（Noise Point）**：如果一个点既不是核心点也不是边界点，那么它被认为是噪声点，通常被忽略或标记为异常值。\n",
    "\n",
    "通过核心点与核心点之间的连接，DBSCAN 中的聚类可以自动生长成簇。这种方式的好处是可以通过密度自动确定簇的数量，且对噪声数据不敏感。\n",
    "\n",
    "更多关于 DBSCAN 的细节可以参考：[luochang212/stream-clustering](https://github.com/luochang212/stream-clustering/blob/main/1.DBSCAN.ipynb)"
   ]
  },
  {
   "cell_type": "code",
   "execution_count": 38,
   "id": "7cefcc48-2ca8-4ba7-9261-72d2910183aa",
   "metadata": {
    "execution": {
     "iopub.execute_input": "2025-03-09T12:53:32.265136Z",
     "iopub.status.busy": "2025-03-09T12:53:32.264135Z",
     "iopub.status.idle": "2025-03-09T12:53:33.373298Z",
     "shell.execute_reply": "2025-03-09T12:53:33.373298Z",
     "shell.execute_reply.started": "2025-03-09T12:53:32.265136Z"
    }
   },
   "outputs": [
    {
     "name": "stdout",
     "output_type": "stream",
     "text": [
      "有效点个数：4917\n",
      "聚类个数：179\n",
      "前100个最大类别的样本数量：4660\n"
     ]
    },
    {
     "data": {
      "image/png": "[encoded data removed]",
      "text/plain": [
       "<Figure size 640x480 with 1 Axes>"
      ]
     },
     "metadata": {},
     "output_type": "display_data"
    }
   ],
   "source": [
    "# 设置参数\n",
    "eps = 0.36\n",
    "min_samples = 3\n",
    "\n",
    "# 创建 DBSCAN 模型，对于向量使用 cosine 作为度量\n",
    "dbscan = DBSCAN(eps=eps, min_samples=min_samples, metric='cosine')\n",
    "\n",
    "# 进行聚类\n",
    "labels = dbscan.fit_predict(train_embeds)\n",
    "\n",
    "print(f'有效点个数：{sum([1 for e in labels if e != -1])}')\n",
    "print(f'聚类个数：{len(set([e for e in labels if e != -1]))}')\n",
    "print(f'前100个最大类别的样本数量：{utils.sum_top_100_categories(labels=labels)}')\n",
    "\n",
    "utils.plot_labels_distribution(labels=labels)"
   ]
  },
  {
   "cell_type": "markdown",
   "id": "4e89d9fa-8e3e-47e0-9561-22cea1af7f54",
   "metadata": {},
   "source": [
    "DBSCAN 是对 `eps` 和 `min_samples` 两个参数很敏感的算法。我们按照以下三个原则来微调它：\n",
    "\n",
    "1. **有效点个数**：由于 DBSCAN 会将边缘点的标签设为 -1，等同于丢弃，因此我们希望有效点个数尽可能多\n",
    "2. **聚类个数**：由于我们知道实际的聚类个数是 100，所以我们希望最终的类别数能接近 100\n",
    "3. **标签**：我们不希望大量样本堆积在少量标签上（和实际情况不符），我们希望样本尽可能均匀"
   ]
  },
  {
   "cell_type": "code",
   "execution_count": 39,
   "id": "375e79f0-0c56-4d43-9318-cabdd7983602",
   "metadata": {
    "execution": {
     "iopub.execute_input": "2025-03-09T12:53:33.374744Z",
     "iopub.status.busy": "2025-03-09T12:53:33.374744Z",
     "iopub.status.idle": "2025-03-09T12:53:33.380499Z",
     "shell.execute_reply": "2025-03-09T12:53:33.380499Z",
     "shell.execute_reply.started": "2025-03-09T12:53:33.374744Z"
    }
   },
   "outputs": [
    {
     "name": "stdout",
     "output_type": "stream",
     "text": [
      "accuracy: 0.3430\n"
     ]
    }
   ],
   "source": [
    "# 1. 直接评估\n",
    "reassignment, accuracy = cluster_accuracy(y_true=train_labels,\n",
    "                                          y_predicted=labels,\n",
    "                                          cluster_number=None)\n",
    "print(f'accuracy: {accuracy:.4f}')"
   ]
  },
  {
   "cell_type": "code",
   "execution_count": 40,
   "id": "d3c47c83-9a17-4820-8ab7-270f97fe4d85",
   "metadata": {
    "execution": {
     "iopub.execute_input": "2025-03-09T12:53:33.381504Z",
     "iopub.status.busy": "2025-03-09T12:53:33.381504Z",
     "iopub.status.idle": "2025-03-09T12:53:33.387134Z",
     "shell.execute_reply": "2025-03-09T12:53:33.387134Z",
     "shell.execute_reply.started": "2025-03-09T12:53:33.381504Z"
    }
   },
   "outputs": [
    {
     "name": "stdout",
     "output_type": "stream",
     "text": [
      "accuracy: 0.7084\n",
      "sample_num / total_num: 4660 / 10000\n"
     ]
    }
   ],
   "source": [
    "# 2. 剔除 -1 后，取样本量前 100 的类别进行评估\n",
    "final_y_pred, final_y_true, encoded_y_pred, mapping = utils.process_predictions(y_pred=labels,\n",
    "                                                                                y_true=train_labels)\n",
    "reassignment, accuracy = cluster_accuracy(y_true=final_y_true,\n",
    "                                          y_predicted=encoded_y_pred,\n",
    "                                          cluster_number=100)\n",
    "print(f'accuracy: {accuracy:.4f}')\n",
    "print(f'sample_num / total_num: {len(final_y_pred)} / {len(train_labels)}')"
   ]
  },
  {
   "cell_type": "markdown",
   "id": "df3db2f1-50c9-420e-b518-760e955d6496",
   "metadata": {},
   "source": [
    "## 5. 结论\n",
    "\n",
    "DEC 模型和传统的 K-Means 模型的准确率类似，都在 0.7 左右。"
   ]
  },
  {
   "cell_type": "code",
   "execution_count": null,
   "id": "351d4b98-c846-4281-891a-6ce6c2185dac",
   "metadata": {},
   "outputs": [],
   "source": []
  }
 ],
 "metadata": {
  "kernelspec": {
   "display_name": "Python 3 (ipykernel)",
   "language": "python",
   "name": "python3"
  },
  "language_info": {
   "codemirror_mode": {
    "name": "ipython",
    "version": 3
   },
   "file_extension": ".py",
   "mimetype": "text/x-python",
   "name": "python",
   "nbconvert_exporter": "python",
   "pygments_lexer": "ipython3",
   "version": "3.12.3"
  }
 },
 "nbformat": 4,
 "nbformat_minor": 5
}
