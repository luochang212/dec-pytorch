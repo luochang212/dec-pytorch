{
 "cells": [
  {
   "cell_type": "markdown",
   "id": "c4825d93-32f2-4c1f-9cc6-9eda83a327ad",
   "metadata": {},
   "source": [
    "# DEC 模型训练\n",
    "\n",
    "DEC（Deep Embedded Clustering，深度嵌入式聚类）是一种结合深度学习与 K-Means 聚类的算法。核心思想是通过联合优化特征表示和聚类目标，提升传统聚类方法在高维数据上的效果。\n",
    "\n",
    "论文：[*Unsupervised Deep Embedding for Clustering Analysis*](https://arxiv.org/abs/1511.06335)"
   ]
  },
  {
   "cell_type": "code",
   "execution_count": 1,
   "id": "efa7c2af-dbe2-4f94-91dd-389b21adc6fd",
   "metadata": {
    "execution": {
     "iopub.execute_input": "2025-03-09T18:09:10.859625Z",
     "iopub.status.busy": "2025-03-09T18:09:10.858625Z",
     "iopub.status.idle": "2025-03-09T18:09:10.864540Z",
     "shell.execute_reply": "2025-03-09T18:09:10.863532Z",
     "shell.execute_reply.started": "2025-03-09T18:09:10.859625Z"
    }
   },
   "outputs": [],
   "source": [
    "# !pip install tensorboard"
   ]
  },
  {
   "cell_type": "markdown",
   "id": "7f50eb16-675c-4da3-a5e9-5b9bcbe4bd4d",
   "metadata": {},
   "source": [
    "打开终端，启动 tensorboard 监控训练进程:\n",
    "\n",
    "```bash\n",
    "tensorboard --logdir=runs --port=6006\n",
    "```\n",
    "\n",
    "在浏览器打开：http://localhost:6006/"
   ]
  },
  {
   "cell_type": "code",
   "execution_count": 2,
   "id": "78db00cc-8845-41cb-ae0d-e2c81258d163",
   "metadata": {
    "execution": {
     "iopub.execute_input": "2025-03-09T18:09:10.865540Z",
     "iopub.status.busy": "2025-03-09T18:09:10.865540Z",
     "iopub.status.idle": "2025-03-09T18:09:21.925228Z",
     "shell.execute_reply": "2025-03-09T18:09:21.923494Z",
     "shell.execute_reply.started": "2025-03-09T18:09:10.865540Z"
    }
   },
   "outputs": [],
   "source": [
    "import os\n",
    "import copy\n",
    "import torch\n",
    "import torch.nn as nn\n",
    "import torch.nn.functional as F\n",
    "import torch.optim as optim\n",
    "import numpy as np\n",
    "\n",
    "import utils\n",
    "\n",
    "from typing import Optional\n",
    "from datetime import datetime\n",
    "from sklearn.cluster import KMeans\n",
    "from scipy.optimize import linear_sum_assignment\n",
    "from torch.utils.data import DataLoader, TensorDataset\n",
    "from torch.utils.tensorboard import SummaryWriter\n",
    "\n",
    "if utils.in_jupyter():\n",
    "    # 在 Jupyter 时 tqdm 的导入方式\n",
    "    from tqdm.notebook import tqdm\n",
    "else:\n",
    "    # 在终端时 tqdm 的导入方式\n",
    "    from tqdm import tqdm\n",
    "\n",
    "CSV_PATH = './data'\n",
    "\n",
    "os.environ[\"LOKY_MAX_CPU_COUNT\"] = \"4\""
   ]
  },
  {
   "cell_type": "markdown",
   "id": "3b538755-0a60-46d7-97b6-439ea825456c",
   "metadata": {
    "execution": {
     "iopub.execute_input": "2025-03-07T18:35:27.320891Z",
     "iopub.status.busy": "2025-03-07T18:35:27.320891Z",
     "iopub.status.idle": "2025-03-07T18:35:27.348167Z",
     "shell.execute_reply": "2025-03-07T18:35:27.348167Z",
     "shell.execute_reply.started": "2025-03-07T18:35:27.320891Z"
    }
   },
   "source": [
    "## 1. 加载 Embedding 数据\n",
    "\n",
    "加载第二节计算的图片 Embeddings 和对应 labels."
   ]
  },
  {
   "cell_type": "code",
   "execution_count": 3,
   "id": "3f10f4aa-7b2e-436f-be2a-c86439c0db2e",
   "metadata": {
    "execution": {
     "iopub.execute_input": "2025-03-09T18:09:21.929590Z",
     "iopub.status.busy": "2025-03-09T18:09:21.928207Z",
     "iopub.status.idle": "2025-03-09T18:10:37.844408Z",
     "shell.execute_reply": "2025-03-09T18:10:37.843127Z",
     "shell.execute_reply.started": "2025-03-09T18:09:21.929590Z"
    }
   },
   "outputs": [
    {
     "data": {
      "text/plain": [
       "(10000, 100)"
      ]
     },
     "execution_count": 3,
     "metadata": {},
     "output_type": "execute_result"
    }
   ],
   "source": [
    "# 将 csv 读入 DataFrame\n",
    "train_csv_path = os.path.join(CSV_PATH, 'train_embed_label.csv')\n",
    "train_df = utils.read_embedding_csv(csv_path=train_csv_path,\n",
    "                                    ebd_cols=['embeddings'])\n",
    "len(train_df), len(set(train_df['labels'].tolist()))"
   ]
  },
  {
   "cell_type": "code",
   "execution_count": 4,
   "id": "992c307e-7691-40bb-bd49-5b10969eade4",
   "metadata": {
    "execution": {
     "iopub.execute_input": "2025-03-09T18:10:37.848382Z",
     "iopub.status.busy": "2025-03-09T18:10:37.846907Z",
     "iopub.status.idle": "2025-03-09T18:10:37.881798Z",
     "shell.execute_reply": "2025-03-09T18:10:37.879768Z",
     "shell.execute_reply.started": "2025-03-09T18:10:37.848382Z"
    }
   },
   "outputs": [
    {
     "data": {
      "text/html": [
       "<div>\n",
       "<style scoped>\n",
       "    .dataframe tbody tr th:only-of-type {\n",
       "        vertical-align: middle;\n",
       "    }\n",
       "\n",
       "    .dataframe tbody tr th {\n",
       "        vertical-align: top;\n",
       "    }\n",
       "\n",
       "    .dataframe thead th {\n",
       "        text-align: right;\n",
       "    }\n",
       "</style>\n",
       "<table border=\"1\" class=\"dataframe\">\n",
       "  <thead>\n",
       "    <tr style=\"text-align: right;\">\n",
       "      <th></th>\n",
       "      <th>embeddings</th>\n",
       "      <th>labels</th>\n",
       "    </tr>\n",
       "  </thead>\n",
       "  <tbody>\n",
       "    <tr>\n",
       "      <th>0</th>\n",
       "      <td>[0.013868028298020363, -0.01785886101424694, 0...</td>\n",
       "      <td>19</td>\n",
       "    </tr>\n",
       "    <tr>\n",
       "      <th>1</th>\n",
       "      <td>[0.03667556121945381, -0.08648686856031418, 0....</td>\n",
       "      <td>29</td>\n",
       "    </tr>\n",
       "    <tr>\n",
       "      <th>2</th>\n",
       "      <td>[0.0741165354847908, -0.008068534545600414, 0....</td>\n",
       "      <td>0</td>\n",
       "    </tr>\n",
       "    <tr>\n",
       "      <th>3</th>\n",
       "      <td>[-0.034709382802248, 0.048253390938043594, -0....</td>\n",
       "      <td>11</td>\n",
       "    </tr>\n",
       "    <tr>\n",
       "      <th>4</th>\n",
       "      <td>[-0.06292618066072464, 0.06838615983724594, 0....</td>\n",
       "      <td>1</td>\n",
       "    </tr>\n",
       "  </tbody>\n",
       "</table>\n",
       "</div>"
      ],
      "text/plain": [
       "                                          embeddings  labels\n",
       "0  [0.013868028298020363, -0.01785886101424694, 0...      19\n",
       "1  [0.03667556121945381, -0.08648686856031418, 0....      29\n",
       "2  [0.0741165354847908, -0.008068534545600414, 0....       0\n",
       "3  [-0.034709382802248, 0.048253390938043594, -0....      11\n",
       "4  [-0.06292618066072464, 0.06838615983724594, 0....       1"
      ]
     },
     "execution_count": 4,
     "metadata": {},
     "output_type": "execute_result"
    }
   ],
   "source": [
    "train_df.head()"
   ]
  },
  {
   "cell_type": "code",
   "execution_count": 5,
   "id": "e57721e3-6e16-4c32-b919-8424962e7f47",
   "metadata": {
    "execution": {
     "iopub.execute_input": "2025-03-09T18:10:37.884859Z",
     "iopub.status.busy": "2025-03-09T18:10:37.883865Z",
     "iopub.status.idle": "2025-03-09T18:10:37.941125Z",
     "shell.execute_reply": "2025-03-09T18:10:37.939025Z",
     "shell.execute_reply.started": "2025-03-09T18:10:37.884859Z"
    }
   },
   "outputs": [],
   "source": [
    "train_embeds = np.array(train_df['embeddings'].tolist())\n",
    "train_labels = train_df['labels'].values"
   ]
  },
  {
   "cell_type": "markdown",
   "id": "69d1ab39-a778-4573-8d7d-95b725e719da",
   "metadata": {},
   "source": [
    "## 2. 训练 DEC 模型\n",
    "\n",
    "1）初始化配置\n",
    "\n",
    "- 初始化设备\n",
    "- 定义评估指标函数"
   ]
  },
  {
   "cell_type": "code",
   "execution_count": 6,
   "id": "5ed42591-1ea1-47c9-b0d3-86449fe1d8b8",
   "metadata": {
    "execution": {
     "iopub.execute_input": "2025-03-09T18:10:37.948743Z",
     "iopub.status.busy": "2025-03-09T18:10:37.948156Z",
     "iopub.status.idle": "2025-03-09T18:10:38.049335Z",
     "shell.execute_reply": "2025-03-09T18:10:38.046830Z",
     "shell.execute_reply.started": "2025-03-09T18:10:37.948743Z"
    }
   },
   "outputs": [
    {
     "name": "stdout",
     "output_type": "stream",
     "text": [
      "Using device: cuda\n"
     ]
    }
   ],
   "source": [
    "# 设备配置\n",
    "device = torch.device(\"cuda\" if torch.cuda.is_available() else \"cpu\")\n",
    "print(f'Using device: {device}')\n",
    "\n",
    "# 评估指标函数\n",
    "def acc(y_true, y_pred):\n",
    "    y_true = y_true.astype(np.int64)\n",
    "    assert y_pred.size == y_true.size\n",
    "    D = max(y_pred.max(), y_true.max()) + 1\n",
    "    w = np.zeros((D, D), dtype=np.int64)\n",
    "    for i in range(y_pred.size):\n",
    "        w[y_pred[i], y_true[i]] += 1\n",
    "    row_ind, col_ind = linear_sum_assignment(w.max() - w)\n",
    "    return sum([w[row_ind[i], col_ind[i]] for i in range(len(row_ind))]) * 1.0 / y_pred.size\n",
    "\n",
    "def nmi(y_true, y_pred):\n",
    "    from sklearn.metrics import normalized_mutual_info_score\n",
    "    return normalized_mutual_info_score(y_true, y_pred)\n",
    "\n",
    "def ari(y_true, y_pred):\n",
    "    from sklearn.metrics import adjusted_rand_score\n",
    "    return adjusted_rand_score(y_true, y_pred)"
   ]
  },
  {
   "cell_type": "markdown",
   "id": "616efc9f-391c-49fa-b0a1-b7000f4fc1be",
   "metadata": {},
   "source": [
    "2）定义降噪自编码器\n",
    "\n",
    "- 支持加入掩蔽噪声或高斯噪声\n",
    "- 添加了 L2 归一化"
   ]
  },
  {
   "cell_type": "code",
   "execution_count": 7,
   "id": "8ca96493-ba56-4846-9bca-cefaa35f4668",
   "metadata": {
    "execution": {
     "iopub.execute_input": "2025-03-09T18:10:38.052334Z",
     "iopub.status.busy": "2025-03-09T18:10:38.051334Z",
     "iopub.status.idle": "2025-03-09T18:10:38.071134Z",
     "shell.execute_reply": "2025-03-09T18:10:38.069126Z",
     "shell.execute_reply.started": "2025-03-09T18:10:38.052334Z"
    }
   },
   "outputs": [],
   "source": [
    "def add_noise(inputs, noise_type='mask', noise_factor=0.3):\n",
    "    \"\"\"\n",
    "    噪声函数\n",
    "    :param inputs: 输入张量\n",
    "    :param noise_type: 'mask' or 'gaussian'\n",
    "    :param noise_factor: 噪声强度\n",
    "    \"\"\"\n",
    "    if noise_type == 'mask':\n",
    "        # 掩蔽噪声\n",
    "        mask = torch.rand_like(inputs) > noise_factor\n",
    "        return inputs * mask\n",
    "    elif noise_type == 'gaussian':\n",
    "        # 高斯噪声\n",
    "        std = inputs.std(dim=0, keepdim=True)\n",
    "        noise = torch.randn_like(inputs) * std * noise_factor\n",
    "        return inputs + noise\n",
    "    return inputs\n",
    "\n",
    "class Autoencoder(nn.Module):\n",
    "    \"\"\"自编码器\"\"\"\n",
    "    def __init__(self, dims):\n",
    "        super().__init__()\n",
    "        # 编码器\n",
    "        encoder_layers = []\n",
    "        for i in range(len(dims)-1):\n",
    "            encoder_layers.append(nn.Linear(dims[i], dims[i+1]))\n",
    "            if i != len(dims)-2:\n",
    "                encoder_layers.append(nn.ReLU())\n",
    "        self.encoder = nn.Sequential(*encoder_layers)\n",
    "\n",
    "        # 解码器\n",
    "        decoder_layers = []\n",
    "        for i in reversed(range(len(dims)-1)):\n",
    "            decoder_layers.append(nn.Linear(dims[i+1], dims[i]))\n",
    "            if i != 0:\n",
    "                decoder_layers.append(nn.ReLU())\n",
    "        self.decoder = nn.Sequential(*decoder_layers)\n",
    "\n",
    "    def forward(self, x):\n",
    "        h = self.encoder(x)\n",
    "        h = F.normalize(h, p=2, dim=1)  # 添加L2归一化\n",
    "        return self.decoder(h)"
   ]
  },
  {
   "cell_type": "markdown",
   "id": "d8e0ea72-e400-4eee-84e0-a57a6831ac40",
   "metadata": {},
   "source": [
    "3）定义主要组件\n",
    "\n",
    "- `target_distribution`: 目标分布，用于指导软分配分布更新\n",
    "- `ClusterAssignment`: 软分配分布，用t学生分布将样本与类心的欧式距离转换成分布\n",
    "- `DEC`: 组装了自编码器和软分配分布\n",
    "\n",
    "这里使用 [vlukiyanov/pt-dec](https://github.com/vlukiyanov/pt-dec/tree/master/ptdec) 的代码"
   ]
  },
  {
   "cell_type": "code",
   "execution_count": 8,
   "id": "c4a9fc07-8f16-4c6a-a26c-521c8ac0ed08",
   "metadata": {
    "execution": {
     "iopub.execute_input": "2025-03-09T18:10:38.075139Z",
     "iopub.status.busy": "2025-03-09T18:10:38.074138Z",
     "iopub.status.idle": "2025-03-09T18:10:38.097980Z",
     "shell.execute_reply": "2025-03-09T18:10:38.095969Z",
     "shell.execute_reply.started": "2025-03-09T18:10:38.075139Z"
    }
   },
   "outputs": [],
   "source": [
    "# 目标分布\n",
    "def target_distribution(batch: torch.Tensor) -> torch.Tensor:\n",
    "    \"\"\"\n",
    "    Compute the target distribution p_ij, given the batch (q_ij), as in 3.1.3 Equation 3 of\n",
    "    Xie/Girshick/Farhadi; this is used the KL-divergence loss function.\n",
    "\n",
    "    :param batch: [batch size, number of clusters] Tensor of dtype float\n",
    "    :return: [batch size, number of clusters] Tensor of dtype float\n",
    "    \"\"\"\n",
    "    weight = (batch ** 2) / torch.sum(batch, 0)\n",
    "    return (weight.t() / torch.sum(weight, 1)).t()\n",
    "\n",
    "# 软分配分布\n",
    "class ClusterAssignment(nn.Module):\n",
    "    def __init__(\n",
    "        self,\n",
    "        cluster_number: int,\n",
    "        embedding_dimension: int,\n",
    "        alpha: float = 1.0,\n",
    "        cluster_centers: Optional[torch.Tensor] = None\n",
    "    ) -> None:\n",
    "        \"\"\"\n",
    "        Module to handle the soft assignment, for a description see in 3.1.1. in Xie/Girshick/Farhadi,\n",
    "        where the Student's t-distribution is used measure similarity between feature vector and each\n",
    "        cluster centroid.\n",
    "\n",
    "        :param cluster_number: number of clusters\n",
    "        :param embedding_dimension: embedding dimension of feature vectors\n",
    "        :param alpha: parameter representing the degrees of freedom in the t-distribution, default 1.0\n",
    "        :param cluster_centers: clusters centers to initialise, if None then use Xavier uniform\n",
    "        \"\"\"\n",
    "        super(ClusterAssignment, self).__init__()\n",
    "        self.embedding_dimension = embedding_dimension\n",
    "        self.cluster_number = cluster_number\n",
    "        self.alpha = alpha\n",
    "        if cluster_centers is None:\n",
    "            initial_cluster_centers = torch.zeros(self.cluster_number,\n",
    "                                                  self.embedding_dimension,\n",
    "                                                  dtype=torch.float)\n",
    "            nn.init.xavier_uniform_(initial_cluster_centers)\n",
    "        else:\n",
    "            initial_cluster_centers = cluster_centers\n",
    "        self.cluster_centers = nn.Parameter(initial_cluster_centers)\n",
    "\n",
    "    def forward(self, batch: torch.Tensor) -> torch.Tensor:\n",
    "        \"\"\"\n",
    "        Compute the soft assignment for a batch of feature vectors, returning a batch of assignments\n",
    "        for each cluster.\n",
    "\n",
    "        :param batch: FloatTensor of [batch size, embedding dimension]\n",
    "        :return: FloatTensor [batch size, number of clusters]\n",
    "        \"\"\"\n",
    "        norm_squared = torch.sum((batch.unsqueeze(1) - self.cluster_centers) ** 2, 2)\n",
    "        numerator = 1.0 / (1.0 + (norm_squared / self.alpha))\n",
    "        power = float(self.alpha + 1) / 2\n",
    "        numerator = numerator ** power\n",
    "        return numerator / torch.sum(numerator, dim=1, keepdim=True)\n",
    "\n",
    "# 自编码器 + 软分配\n",
    "class DEC(nn.Module):\n",
    "    def __init__(\n",
    "        self,\n",
    "        cluster_number: int,\n",
    "        hidden_dimension: int,\n",
    "        encoder: torch.nn.Module,\n",
    "        alpha: float = 1.0,\n",
    "        cluster_centers: Optional[torch.Tensor] = None\n",
    "    ):\n",
    "        \"\"\"\n",
    "        Module which holds all the moving parts of the DEC algorithm, as described in\n",
    "        Xie/Girshick/Farhadi; this includes the AutoEncoder stage and the ClusterAssignment stage.\n",
    "\n",
    "        :param cluster_number: number of clusters\n",
    "        :param hidden_dimension: hidden dimension, output of the encoder\n",
    "        :param encoder: encoder to use\n",
    "        :param alpha: parameter representing the degrees of freedom in the t-distribution, default 1.0\n",
    "        \"\"\"\n",
    "        super(DEC, self).__init__()\n",
    "        self.encoder = encoder\n",
    "        self.hidden_dimension = hidden_dimension\n",
    "        self.cluster_number = cluster_number\n",
    "        self.alpha = alpha\n",
    "        self.assignment = ClusterAssignment(\n",
    "            cluster_number, self.hidden_dimension, alpha, cluster_centers\n",
    "        )\n",
    "\n",
    "    def forward(self, batch: torch.Tensor) -> torch.Tensor:\n",
    "        \"\"\"\n",
    "        Compute the cluster assignment using the ClusterAssignment after running the batch\n",
    "        through the encoder part of the associated AutoEncoder module.\n",
    "\n",
    "        :param batch: [batch size, embedding dimension] FloatTensor\n",
    "        :return: [batch size, number of clusters] FloatTensor\n",
    "        \"\"\"\n",
    "        return self.assignment(self.encoder(batch))"
   ]
  },
  {
   "cell_type": "markdown",
   "id": "9d0590e7-906f-4285-a2ee-6a75e0d5da3a",
   "metadata": {},
   "source": [
    "4）阶段一：训练降噪自编码器"
   ]
  },
  {
   "cell_type": "code",
   "execution_count": 9,
   "id": "93f1a8a1-e1fc-4300-8f9e-77ccf35218dc",
   "metadata": {
    "execution": {
     "iopub.execute_input": "2025-03-09T18:10:38.100980Z",
     "iopub.status.busy": "2025-03-09T18:10:38.099979Z",
     "iopub.status.idle": "2025-03-09T18:10:38.112380Z",
     "shell.execute_reply": "2025-03-09T18:10:38.109369Z",
     "shell.execute_reply.started": "2025-03-09T18:10:38.100980Z"
    }
   },
   "outputs": [],
   "source": [
    "# 模型超参数配置\n",
    "config = {\n",
    "    \"dims\": [768, 256, 32],\n",
    "    \"n_clusters\": 100,\n",
    "    \"pretrain_epochs\": 40,\n",
    "    \"soft_dist_epochs\": 80,\n",
    "    \"update_interval\": 10,\n",
    "    \"batch_size\": 256,\n",
    "    \"tol\": 0.001,\n",
    "    \"alpha\": 1.0,\n",
    "    \"save_dir\": \"./model\",\n",
    "    \"args_model_file\": \"dec_args.pth\",\n",
    "    \"full_model_file\": \"dec_full.pth\"\n",
    "}"
   ]
  },
  {
   "cell_type": "code",
   "execution_count": 10,
   "id": "db5b3e5c-5c67-4608-a590-76e336f310fb",
   "metadata": {
    "execution": {
     "iopub.execute_input": "2025-03-09T18:10:38.116380Z",
     "iopub.status.busy": "2025-03-09T18:10:38.114379Z",
     "iopub.status.idle": "2025-03-09T18:10:38.128927Z",
     "shell.execute_reply": "2025-03-09T18:10:38.126742Z",
     "shell.execute_reply.started": "2025-03-09T18:10:38.116380Z"
    }
   },
   "outputs": [],
   "source": [
    "def pretrain(autoencoder, data_loader, epochs, device, interval=10):\n",
    "    \"\"\"预训练自编码器\"\"\"\n",
    "    optimizer = optim.Adam(autoencoder.parameters())\n",
    "    criterion = nn.MSELoss()\n",
    "    autoencoder.train()\n",
    "    for epoch in range(epochs):\n",
    "        total_loss = 0.0\n",
    "        for idx, x in data_loader:\n",
    "            x = x.to(device)\n",
    "            noisy_x = add_noise(x, noise_type='mask', noise_factor=0.3)\n",
    "            optimizer.zero_grad()\n",
    "            x_recon = autoencoder(noisy_x)  # 输入带噪声数据\n",
    "            loss = criterion(x_recon, x)  # 重建目标仍为原始数据\n",
    "            loss.backward()\n",
    "            optimizer.step()\n",
    "            total_loss += loss.item()\n",
    "        if (epoch + 1) % interval == 0:\n",
    "            print(f\"Pretrain Epoch {epoch+1}/{epochs}, Loss: {total_loss/len(data_loader):.4f}\")\n",
    "    return autoencoder"
   ]
  },
  {
   "cell_type": "code",
   "execution_count": 11,
   "id": "2ad2aa3d-0d47-466c-aa6d-05897eab2fbf",
   "metadata": {
    "execution": {
     "iopub.execute_input": "2025-03-09T18:10:38.131938Z",
     "iopub.status.busy": "2025-03-09T18:10:38.130938Z",
     "iopub.status.idle": "2025-03-09T18:11:19.213990Z",
     "shell.execute_reply": "2025-03-09T18:11:19.211976Z",
     "shell.execute_reply.started": "2025-03-09T18:10:38.131938Z"
    }
   },
   "outputs": [
    {
     "name": "stdout",
     "output_type": "stream",
     "text": [
      "Pretrain Epoch 10/50, Loss: 0.0009\n",
      "Pretrain Epoch 20/50, Loss: 0.0008\n",
      "Pretrain Epoch 30/50, Loss: 0.0007\n",
      "Pretrain Epoch 40/50, Loss: 0.0007\n",
      "Pretrain Epoch 50/50, Loss: 0.0007\n"
     ]
    }
   ],
   "source": [
    "# 数据准备\n",
    "X = train_embeds\n",
    "y_true = train_labels\n",
    "\n",
    "dataset = TensorDataset(torch.arange(len(X)), torch.from_numpy(X.astype(np.float32)))\n",
    "pretrain_loader = DataLoader(dataset, batch_size=config[\"batch_size\"], shuffle=True)\n",
    "\n",
    "# 实例化编码器\n",
    "auto_encoder = Autoencoder(config[\"dims\"]).to(device)\n",
    "\n",
    "# 执行编码器预训练代码\n",
    "auto_encoder = pretrain(autoencoder=auto_encoder,\n",
    "                        data_loader=pretrain_loader,\n",
    "                        epochs=50,\n",
    "                        device=device,\n",
    "                        interval=config[\"update_interval\"])"
   ]
  },
  {
   "cell_type": "markdown",
   "id": "d3803fbc-77c5-408c-b9b1-2b0ee0376f88",
   "metadata": {
    "execution": {
     "iopub.execute_input": "2025-03-09T14:40:16.315991Z",
     "iopub.status.busy": "2025-03-09T14:40:16.314990Z",
     "iopub.status.idle": "2025-03-09T14:40:16.323014Z",
     "shell.execute_reply": "2025-03-09T14:40:16.322510Z",
     "shell.execute_reply.started": "2025-03-09T14:40:16.315991Z"
    }
   },
   "source": [
    "5）阶段二：初始化聚类中心"
   ]
  },
  {
   "cell_type": "code",
   "execution_count": 12,
   "id": "c57389d6-48cf-4cd3-8d51-80bcf8135566",
   "metadata": {
    "execution": {
     "iopub.execute_input": "2025-03-09T18:11:19.217638Z",
     "iopub.status.busy": "2025-03-09T18:11:19.215985Z",
     "iopub.status.idle": "2025-03-09T18:11:19.231864Z",
     "shell.execute_reply": "2025-03-09T18:11:19.228854Z",
     "shell.execute_reply.started": "2025-03-09T18:11:19.217638Z"
    }
   },
   "outputs": [],
   "source": [
    "def init_cluster_centers(encoder, data_loader, n_clusters, device, y_true=None):\n",
    "    \"\"\"初始化聚类中心\"\"\"\n",
    "    features, indices = [], []\n",
    "    with torch.no_grad():\n",
    "        for idx, x in data_loader:\n",
    "            features.append(encoder(x.to(device)).cpu())\n",
    "            indices.append(idx)\n",
    "        features = torch.cat(features).numpy()\n",
    "        indices = torch.cat(indices).numpy()\n",
    "        kmeans = KMeans(n_clusters=n_clusters, n_init=20)\n",
    "        y_pred = kmeans.fit_predict(features)\n",
    "    init_acc = None if y_true is None else acc(y_true, y_pred)\n",
    "    return kmeans, y_pred, init_acc"
   ]
  },
  {
   "cell_type": "code",
   "execution_count": 13,
   "id": "76b71e56-3de7-4abf-812e-2394db4dde2d",
   "metadata": {
    "execution": {
     "iopub.execute_input": "2025-03-09T18:11:19.236865Z",
     "iopub.status.busy": "2025-03-09T18:11:19.234862Z",
     "iopub.status.idle": "2025-03-09T18:11:35.699674Z",
     "shell.execute_reply": "2025-03-09T18:11:35.697667Z",
     "shell.execute_reply.started": "2025-03-09T18:11:19.236865Z"
    }
   },
   "outputs": [
    {
     "name": "stdout",
     "output_type": "stream",
     "text": [
      "init_acc: 0.701\n"
     ]
    }
   ],
   "source": [
    "full_loader = DataLoader(dataset, batch_size=1024, shuffle=False)\n",
    "kmeans, y_pred, init_acc = init_cluster_centers(encoder=auto_encoder.encoder,\n",
    "                                                data_loader=full_loader,\n",
    "                                                n_clusters=config[\"n_clusters\"],\n",
    "                                                device=device,\n",
    "                                                y_true=y_true)\n",
    "\n",
    "print(f'init_acc: {init_acc}')"
   ]
  },
  {
   "cell_type": "code",
   "execution_count": 14,
   "id": "6400d357-52c3-4a72-a282-b928a9a3fa70",
   "metadata": {
    "execution": {
     "iopub.execute_input": "2025-03-09T18:11:35.702175Z",
     "iopub.status.busy": "2025-03-09T18:11:35.700674Z",
     "iopub.status.idle": "2025-03-09T18:11:35.711370Z",
     "shell.execute_reply": "2025-03-09T18:11:35.710361Z",
     "shell.execute_reply.started": "2025-03-09T18:11:35.702175Z"
    }
   },
   "outputs": [
    {
     "name": "stdout",
     "output_type": "stream",
     "text": [
      "cluster_centers.shape: torch.Size([100, 32])\n"
     ]
    }
   ],
   "source": [
    "# 代表聚类中心的特征向量\n",
    "cluster_centers = torch.tensor(kmeans.cluster_centers_,\n",
    "                               dtype=torch.float,\n",
    "                               requires_grad=True,\n",
    "                               device=device)\n",
    "print(f'cluster_centers.shape: {cluster_centers.shape}')"
   ]
  },
  {
   "cell_type": "markdown",
   "id": "65989630-115a-4def-a08a-4f727f077b87",
   "metadata": {},
   "source": [
    "6）阶段三：训练 DEC\n",
    "\n",
    "用目标分布指导软分配分布更新"
   ]
  },
  {
   "cell_type": "code",
   "execution_count": 15,
   "id": "d113beff-618d-4d37-baf9-031ffa693d5e",
   "metadata": {
    "execution": {
     "iopub.execute_input": "2025-03-09T18:11:35.714895Z",
     "iopub.status.busy": "2025-03-09T18:11:35.713757Z",
     "iopub.status.idle": "2025-03-09T18:11:35.731542Z",
     "shell.execute_reply": "2025-03-09T18:11:35.729929Z",
     "shell.execute_reply.started": "2025-03-09T18:11:35.714895Z"
    }
   },
   "outputs": [],
   "source": [
    "def train_dec(model, data_loader, epochs, device, X, y_true=None, interval=10):\n",
    "    \"\"\"通过目标分布引导聚类优化\"\"\"\n",
    "\n",
    "    # 记录最优模型\n",
    "    best_model, best_acc = None, None\n",
    "\n",
    "    optimizer = optim.Adam([\n",
    "        {'params': model.encoder.parameters(), 'lr': 1e-6},\n",
    "        {'params': model.assignment.parameters(), 'lr': 1e-5}\n",
    "    ])\n",
    "\n",
    "    criterion = F.kl_div\n",
    "    model.train()\n",
    "    for epoch in range(epochs):\n",
    "        total_loss = 0.0\n",
    "        for idx, x in data_loader:\n",
    "            x = x.to(device)\n",
    "            optimizer.zero_grad()\n",
    "            output = model(x)\n",
    "            target = target_distribution(output).detach()\n",
    "            loss = criterion(output.log(), target, reduction='batchmean')\n",
    "            loss.backward()\n",
    "\n",
    "            # 梯度裁剪\n",
    "            torch.nn.utils.clip_grad_norm_(model.parameters(),\n",
    "                                           max_norm=1.0,\n",
    "                                           norm_type=2)\n",
    "\n",
    "            optimizer.step()\n",
    "            total_loss += loss.item()\n",
    "\n",
    "        avg_loss = total_loss / len(data_loader)\n",
    "        writer.add_scalar('Loss/dec', avg_loss, epoch)\n",
    "        if (epoch + 1) % interval == 0:\n",
    "            print(f\"DEC Train Epoch {epoch+1}/{epochs}, Loss: {avg_loss:.4f}\")\n",
    "\n",
    "        if y_true is not None:\n",
    "            # 计算准确率\n",
    "            with torch.no_grad():\n",
    "                input = torch.from_numpy(X).float().to(device)\n",
    "                y_pred = model(input).argmax(1).cpu().numpy()\n",
    "                # print(y_pred.shape)\n",
    "            current_acc = acc(y_true, y_pred)\n",
    "\n",
    "            # 更新最优模型\n",
    "            if best_acc is None or current_acc > best_acc:\n",
    "                best_model = copy.deepcopy(model)\n",
    "                best_acc = current_acc\n",
    "                print(f'===== best_acc: {best_acc:.4f} =====')\n",
    "\n",
    "    return model if best_model is None else best_model, best_acc"
   ]
  },
  {
   "cell_type": "code",
   "execution_count": 16,
   "id": "0e1fc8de-76f3-47c3-9ba7-21e29592d54c",
   "metadata": {
    "execution": {
     "iopub.execute_input": "2025-03-09T18:11:35.734722Z",
     "iopub.status.busy": "2025-03-09T18:11:35.733658Z",
     "iopub.status.idle": "2025-03-09T18:12:29.146056Z",
     "shell.execute_reply": "2025-03-09T18:12:29.143926Z",
     "shell.execute_reply.started": "2025-03-09T18:11:35.734722Z"
    }
   },
   "outputs": [
    {
     "name": "stdout",
     "output_type": "stream",
     "text": [
      "===== best_acc: 0.7009 =====\n",
      "DEC Train Epoch 10/80, Loss: 0.0050\n",
      "===== best_acc: 0.7010 =====\n",
      "DEC Train Epoch 20/80, Loss: 0.0058\n",
      "DEC Train Epoch 30/80, Loss: 0.0067\n",
      "DEC Train Epoch 40/80, Loss: 0.0078\n",
      "DEC Train Epoch 50/80, Loss: 0.0090\n",
      "DEC Train Epoch 60/80, Loss: 0.0105\n",
      "DEC Train Epoch 70/80, Loss: 0.0121\n",
      "DEC Train Epoch 80/80, Loss: 0.0140\n"
     ]
    }
   ],
   "source": [
    "# 初始化 tensorboard writer\n",
    "writer = SummaryWriter(f'runs/dec_{datetime.now().strftime('%Y%m%d_%H%M%S')}')\n",
    "\n",
    "# 实例化 DEC\n",
    "dec_model = DEC(\n",
    "    cluster_number=config[\"n_clusters\"],  # 预设的聚类数\n",
    "    hidden_dimension=config[\"dims\"][-1],  # 编码器输出维度\n",
    "    encoder=auto_encoder.encoder,\n",
    "    alpha=config[\"alpha\"],\n",
    "    cluster_centers=cluster_centers\n",
    ")\n",
    "\n",
    "data_loader = DataLoader(dataset, batch_size=config[\"batch_size\"], shuffle=False)\n",
    "dec_model, dec_acc = train_dec(model=dec_model,\n",
    "                               data_loader=data_loader,\n",
    "                               epochs=config[\"soft_dist_epochs\"],\n",
    "                               device=device,\n",
    "                               X=X,\n",
    "                               y_true=y_true,\n",
    "                               interval=config[\"update_interval\"])"
   ]
  },
  {
   "cell_type": "markdown",
   "id": "b73fd0d0-6536-433d-a46b-e2c51570e92c",
   "metadata": {},
   "source": [
    "7）保存最优模型"
   ]
  },
  {
   "cell_type": "code",
   "execution_count": 17,
   "id": "590e19cc-79f0-49dd-96db-4460a33dd1fb",
   "metadata": {
    "execution": {
     "iopub.execute_input": "2025-03-09T18:12:29.149026Z",
     "iopub.status.busy": "2025-03-09T18:12:29.148026Z",
     "iopub.status.idle": "2025-03-09T18:12:29.167866Z",
     "shell.execute_reply": "2025-03-09T18:12:29.165384Z",
     "shell.execute_reply.started": "2025-03-09T18:12:29.149026Z"
    }
   },
   "outputs": [],
   "source": [
    "# 1. 保存整个模型（结构+参数）\n",
    "full_model_path = os.path.join(config['save_dir'], config['full_model_file'])\n",
    "torch.save(dec_model, full_model_path)"
   ]
  },
  {
   "cell_type": "code",
   "execution_count": 18,
   "id": "9678faaa-3a1f-40e0-a2aa-116fdc06a3c2",
   "metadata": {
    "execution": {
     "iopub.execute_input": "2025-03-09T18:12:29.169871Z",
     "iopub.status.busy": "2025-03-09T18:12:29.169871Z",
     "iopub.status.idle": "2025-03-09T18:12:29.189066Z",
     "shell.execute_reply": "2025-03-09T18:12:29.186619Z",
     "shell.execute_reply.started": "2025-03-09T18:12:29.169871Z"
    }
   },
   "outputs": [],
   "source": [
    "# 2. 仅保存模型参数\n",
    "args_model_path = os.path.join(config['save_dir'], config['args_model_file'])\n",
    "torch.save(dec_model.state_dict(), args_model_path)"
   ]
  },
  {
   "cell_type": "markdown",
   "id": "e90c94c1-b28c-4905-a3fe-e5a025f15fc2",
   "metadata": {},
   "source": [
    "8）计算指标"
   ]
  },
  {
   "cell_type": "code",
   "execution_count": 19,
   "id": "a33960c1-0a00-416c-ba75-7be4a08087d6",
   "metadata": {
    "execution": {
     "iopub.execute_input": "2025-03-09T18:12:29.193065Z",
     "iopub.status.busy": "2025-03-09T18:12:29.191069Z",
     "iopub.status.idle": "2025-03-09T18:12:29.206480Z",
     "shell.execute_reply": "2025-03-09T18:12:29.204464Z",
     "shell.execute_reply.started": "2025-03-09T18:12:29.193065Z"
    }
   },
   "outputs": [],
   "source": [
    "# 推理新数据\n",
    "def infer_embeddings(model,\n",
    "                     embeddings: np.ndarray,\n",
    "                     batch_size: int = 1024,\n",
    "                     device: torch.device = torch.device('cpu')\n",
    "    ) -> np.ndarray:\n",
    "    \"\"\"\n",
    "    该函数用于对输入的嵌入向量进行聚类推理\n",
    "\n",
    "    :param model: DEC 模型实例\n",
    "    :param embeddings: numpy 数组，形状为 (N, 768)\n",
    "    :param batch_size: 推理时的批量大小，默认为 1024\n",
    "    :param device: 计算设备\n",
    "    :return: 聚类标签，形状为 (N,)\n",
    "    \"\"\"\n",
    "    dataset = TensorDataset(torch.from_numpy(embeddings.astype(np.float32)))\n",
    "    loader = DataLoader(dataset, batch_size=batch_size, shuffle=False)\n",
    "\n",
    "    all_labels = []\n",
    "    with torch.no_grad():\n",
    "        for batch in loader:\n",
    "            x = batch[0].to(device)\n",
    "            z = model.encoder(x)  # 编码器前向传播\n",
    "            q = model.assignment(z)  # 聚类层计算分配概率\n",
    "            labels = torch.argmax(q, dim=1).cpu().numpy()  # 获取聚类标签\n",
    "            all_labels.append(labels)\n",
    "\n",
    "    return np.concatenate(all_labels)"
   ]
  },
  {
   "cell_type": "code",
   "execution_count": 20,
   "id": "7143a283-6fae-4293-a54b-d995aa3fa9d7",
   "metadata": {
    "execution": {
     "iopub.execute_input": "2025-03-09T18:12:29.209473Z",
     "iopub.status.busy": "2025-03-09T18:12:29.208473Z",
     "iopub.status.idle": "2025-03-09T18:12:29.464395Z",
     "shell.execute_reply": "2025-03-09T18:12:29.462288Z",
     "shell.execute_reply.started": "2025-03-09T18:12:29.209473Z"
    }
   },
   "outputs": [
    {
     "name": "stdout",
     "output_type": "stream",
     "text": [
      "Final Clustering Results:\n",
      "ACC: 0.7010\n",
      "NMI: 0.8035\n",
      "ARI: 0.5680\n"
     ]
    }
   ],
   "source": [
    "y_pred = infer_embeddings(dec_model, X, device=device)\n",
    "print(\"Final Clustering Results:\")\n",
    "print(f\"ACC: {acc(y_true, y_pred):.4f}\")\n",
    "print(f\"NMI: {nmi(y_true, y_pred):.4f}\")\n",
    "print(f\"ARI: {ari(y_true, y_pred):.4f}\")"
   ]
  },
  {
   "cell_type": "markdown",
   "id": "0efdde47-b000-4011-8c00-32b2c1677cd7",
   "metadata": {
    "execution": {
     "iopub.execute_input": "2025-03-07T20:13:50.823056Z",
     "iopub.status.busy": "2025-03-07T20:13:50.822055Z",
     "iopub.status.idle": "2025-03-07T20:13:50.828284Z",
     "shell.execute_reply": "2025-03-07T20:13:50.827205Z",
     "shell.execute_reply.started": "2025-03-07T20:13:50.823056Z"
    }
   },
   "source": [
    "## 3. 推理新数据"
   ]
  },
  {
   "cell_type": "code",
   "execution_count": 21,
   "id": "37fd1d1d-5186-4296-9ed6-1dce1852d7a6",
   "metadata": {
    "execution": {
     "iopub.execute_input": "2025-03-09T18:12:29.475112Z",
     "iopub.status.busy": "2025-03-09T18:12:29.474116Z",
     "iopub.status.idle": "2025-03-09T18:12:29.487243Z",
     "shell.execute_reply": "2025-03-09T18:12:29.485231Z",
     "shell.execute_reply.started": "2025-03-09T18:12:29.475112Z"
    }
   },
   "outputs": [],
   "source": [
    "# 加载整个模型\n",
    "def load_full_model(model_path, device):\n",
    "    model = torch.load(model_path,\n",
    "                       map_location=device,\n",
    "                       weights_only=False)\n",
    "    model.eval()\n",
    "    return model\n",
    "\n",
    "# 加载模型参数\n",
    "def load_args_model(model, model_path, device):\n",
    "    model.load_state_dict(\n",
    "        torch.load(model_path,\n",
    "                   map_location=device,\n",
    "                   weights_only=True))\n",
    "    model.eval()\n",
    "    return model"
   ]
  },
  {
   "cell_type": "code",
   "execution_count": 22,
   "id": "6ec07314-7e2a-4e45-b9cd-3dd0e72494a4",
   "metadata": {
    "execution": {
     "iopub.execute_input": "2025-03-09T18:12:29.491502Z",
     "iopub.status.busy": "2025-03-09T18:12:29.489507Z",
     "iopub.status.idle": "2025-03-09T18:12:29.507208Z",
     "shell.execute_reply": "2025-03-09T18:12:29.505176Z",
     "shell.execute_reply.started": "2025-03-09T18:12:29.491502Z"
    }
   },
   "outputs": [],
   "source": [
    "# 创建 50 条示例样本\n",
    "new_embeddings = np.random.randn(50, 768).astype(np.float32)"
   ]
  },
  {
   "cell_type": "markdown",
   "id": "c23b3507-abb0-4a71-9514-240b407ecb1b",
   "metadata": {
    "execution": {
     "iopub.execute_input": "2025-03-09T17:08:47.925586Z",
     "iopub.status.busy": "2025-03-09T17:08:47.925586Z",
     "iopub.status.idle": "2025-03-09T17:08:47.940104Z",
     "shell.execute_reply": "2025-03-09T17:08:47.937106Z",
     "shell.execute_reply.started": "2025-03-09T17:08:47.925586Z"
    }
   },
   "source": [
    "1）加载全量保存的模型"
   ]
  },
  {
   "cell_type": "code",
   "execution_count": 23,
   "id": "9d69365a-773e-406a-8d6e-d5731c889666",
   "metadata": {
    "execution": {
     "iopub.execute_input": "2025-03-09T18:12:29.512217Z",
     "iopub.status.busy": "2025-03-09T18:12:29.509210Z",
     "iopub.status.idle": "2025-03-09T18:12:29.550644Z",
     "shell.execute_reply": "2025-03-09T18:12:29.548633Z",
     "shell.execute_reply.started": "2025-03-09T18:12:29.512217Z"
    }
   },
   "outputs": [
    {
     "data": {
      "text/plain": [
       "array([22, 75, 59, 22, 60, 43, 35, 33, 59, 17, 59, 59, 59, 32, 22, 15, 68,\n",
       "       37, 41, 32, 65, 22, 22, 87, 35, 65, 68, 48, 56, 56, 59, 74, 56, 68,\n",
       "       52, 59, 23, 20, 68, 92, 37, 55, 87, 69, 22, 28, 22, 60, 22, 74],\n",
       "      dtype=int64)"
      ]
     },
     "execution_count": 23,
     "metadata": {},
     "output_type": "execute_result"
    }
   ],
   "source": [
    "full_model_path = os.path.join(config['save_dir'], config['full_model_file'])\n",
    "loaded_model = load_full_model(full_model_path, device=device)\n",
    "pred_labels = infer_embeddings(loaded_model, new_embeddings, device=device)\n",
    "pred_labels"
   ]
  },
  {
   "cell_type": "markdown",
   "id": "be18b0b7-e26c-40bc-a332-4ce2f30d5d89",
   "metadata": {},
   "source": [
    "2）加载仅保存参数的模型"
   ]
  },
  {
   "cell_type": "code",
   "execution_count": 24,
   "id": "cc52b1ea-b7b1-4b0b-968a-e21e711ac91b",
   "metadata": {
    "execution": {
     "iopub.execute_input": "2025-03-09T18:12:29.554640Z",
     "iopub.status.busy": "2025-03-09T18:12:29.553648Z",
     "iopub.status.idle": "2025-03-09T18:12:29.588126Z",
     "shell.execute_reply": "2025-03-09T18:12:29.586104Z",
     "shell.execute_reply.started": "2025-03-09T18:12:29.554640Z"
    }
   },
   "outputs": [
    {
     "data": {
      "text/plain": [
       "array([22, 75, 59, 22, 60, 43, 35, 33, 59, 17, 59, 59, 59, 32, 22, 15, 68,\n",
       "       37, 41, 32, 65, 22, 22, 87, 35, 65, 68, 48, 56, 56, 59, 74, 56, 68,\n",
       "       52, 59, 23, 20, 68, 92, 37, 55, 87, 69, 22, 28, 22, 60, 22, 74],\n",
       "      dtype=int64)"
      ]
     },
     "execution_count": 24,
     "metadata": {},
     "output_type": "execute_result"
    }
   ],
   "source": [
    "init_dec_model = DEC(\n",
    "    cluster_number=config[\"n_clusters\"],  # 预设的聚类数\n",
    "    hidden_dimension=config[\"dims\"][-1],  # 编码器输出维度\n",
    "    encoder=auto_encoder.encoder,\n",
    "    alpha=config[\"alpha\"],\n",
    "    cluster_centers=cluster_centers\n",
    ")\n",
    "args_model_path = os.path.join(config['save_dir'], config['args_model_file'])\n",
    "loaded_model = load_args_model(init_dec_model,\n",
    "                               model_path=args_model_path,\n",
    "                               device=device)\n",
    "\n",
    "pred_labels = infer_embeddings(loaded_model, new_embeddings, device=device)\n",
    "pred_labels"
   ]
  },
  {
   "cell_type": "markdown",
   "id": "9c6ea2fd-a8d2-4657-a1ff-9531d8eb6e95",
   "metadata": {
    "execution": {
     "iopub.execute_input": "2025-03-07T20:28:38.292224Z",
     "iopub.status.busy": "2025-03-07T20:28:38.291226Z",
     "iopub.status.idle": "2025-03-07T20:28:38.297484Z",
     "shell.execute_reply": "2025-03-07T20:28:38.296221Z",
     "shell.execute_reply.started": "2025-03-07T20:28:38.292224Z"
    }
   },
   "source": [
    "## 4. 评估"
   ]
  },
  {
   "cell_type": "code",
   "execution_count": 25,
   "id": "da107cd1-9cf2-4ea1-89bf-9f7a2e52bf94",
   "metadata": {
    "execution": {
     "iopub.execute_input": "2025-03-09T18:12:29.592120Z",
     "iopub.status.busy": "2025-03-09T18:12:29.590119Z",
     "iopub.status.idle": "2025-03-09T18:13:45.843763Z",
     "shell.execute_reply": "2025-03-09T18:13:45.841554Z",
     "shell.execute_reply.started": "2025-03-09T18:12:29.592120Z"
    }
   },
   "outputs": [
    {
     "data": {
      "text/plain": [
       "(10000, 100)"
      ]
     },
     "execution_count": 25,
     "metadata": {},
     "output_type": "execute_result"
    }
   ],
   "source": [
    "# 将 csv 读入 DataFrame\n",
    "test_csv_path = os.path.join(CSV_PATH, 'test_embed_label.csv')\n",
    "test_df = utils.read_embedding_csv(csv_path=test_csv_path,\n",
    "                                   ebd_cols=['embeddings'])\n",
    "len(test_df), len(set(test_df['labels'].tolist()))"
   ]
  },
  {
   "cell_type": "code",
   "execution_count": 26,
   "id": "eff42959-ec47-4282-8476-abb959cb7f8b",
   "metadata": {
    "execution": {
     "iopub.execute_input": "2025-03-09T18:13:45.846673Z",
     "iopub.status.busy": "2025-03-09T18:13:45.845675Z",
     "iopub.status.idle": "2025-03-09T18:13:46.599153Z",
     "shell.execute_reply": "2025-03-09T18:13:46.597164Z",
     "shell.execute_reply.started": "2025-03-09T18:13:45.846673Z"
    }
   },
   "outputs": [
    {
     "data": {
      "text/plain": [
       "array([21, 47, 67, ..., 46, 20, 78], dtype=int64)"
      ]
     },
     "execution_count": 26,
     "metadata": {},
     "output_type": "execute_result"
    }
   ],
   "source": [
    "test_embeds = np.array(test_df['embeddings'].tolist()).astype(np.float32)\n",
    "pred_labels = infer_embeddings(loaded_model, test_embeds, device=device)\n",
    "pred_labels"
   ]
  },
  {
   "cell_type": "code",
   "execution_count": 27,
   "id": "dba42782-50c2-4d1d-9bbd-82e46c1319d6",
   "metadata": {
    "execution": {
     "iopub.execute_input": "2025-03-09T18:13:46.603175Z",
     "iopub.status.busy": "2025-03-09T18:13:46.601173Z",
     "iopub.status.idle": "2025-03-09T18:13:46.633159Z",
     "shell.execute_reply": "2025-03-09T18:13:46.631650Z",
     "shell.execute_reply.started": "2025-03-09T18:13:46.603175Z"
    }
   },
   "outputs": [
    {
     "data": {
      "text/html": [
       "<div>\n",
       "<style scoped>\n",
       "    .dataframe tbody tr th:only-of-type {\n",
       "        vertical-align: middle;\n",
       "    }\n",
       "\n",
       "    .dataframe tbody tr th {\n",
       "        vertical-align: top;\n",
       "    }\n",
       "\n",
       "    .dataframe thead th {\n",
       "        text-align: right;\n",
       "    }\n",
       "</style>\n",
       "<table border=\"1\" class=\"dataframe\">\n",
       "  <thead>\n",
       "    <tr style=\"text-align: right;\">\n",
       "      <th></th>\n",
       "      <th>embeddings</th>\n",
       "      <th>labels</th>\n",
       "      <th>pred</th>\n",
       "    </tr>\n",
       "  </thead>\n",
       "  <tbody>\n",
       "    <tr>\n",
       "      <th>0</th>\n",
       "      <td>[-0.04898432269692421, 0.004301051609218121, 0...</td>\n",
       "      <td>49</td>\n",
       "      <td>21</td>\n",
       "    </tr>\n",
       "    <tr>\n",
       "      <th>1</th>\n",
       "      <td>[-0.030251776799559593, 0.054930735379457474, ...</td>\n",
       "      <td>33</td>\n",
       "      <td>47</td>\n",
       "    </tr>\n",
       "    <tr>\n",
       "      <th>2</th>\n",
       "      <td>[0.018033478409051895, -0.0241413451731205, 0....</td>\n",
       "      <td>72</td>\n",
       "      <td>67</td>\n",
       "    </tr>\n",
       "    <tr>\n",
       "      <th>3</th>\n",
       "      <td>[0.0965263620018959, 0.022365640848875046, 0.0...</td>\n",
       "      <td>51</td>\n",
       "      <td>46</td>\n",
       "    </tr>\n",
       "    <tr>\n",
       "      <th>4</th>\n",
       "      <td>[-0.007981446571648121, -0.03037705458700657, ...</td>\n",
       "      <td>71</td>\n",
       "      <td>91</td>\n",
       "    </tr>\n",
       "  </tbody>\n",
       "</table>\n",
       "</div>"
      ],
      "text/plain": [
       "                                          embeddings  labels  pred\n",
       "0  [-0.04898432269692421, 0.004301051609218121, 0...      49    21\n",
       "1  [-0.030251776799559593, 0.054930735379457474, ...      33    47\n",
       "2  [0.018033478409051895, -0.0241413451731205, 0....      72    67\n",
       "3  [0.0965263620018959, 0.022365640848875046, 0.0...      51    46\n",
       "4  [-0.007981446571648121, -0.03037705458700657, ...      71    91"
      ]
     },
     "execution_count": 27,
     "metadata": {},
     "output_type": "execute_result"
    }
   ],
   "source": [
    "test_df['pred'] = pred_labels\n",
    "test_df.head()"
   ]
  },
  {
   "cell_type": "code",
   "execution_count": 28,
   "id": "998c2502-2db7-4220-88bb-d52e88d07686",
   "metadata": {
    "execution": {
     "iopub.execute_input": "2025-03-09T18:13:46.637170Z",
     "iopub.status.busy": "2025-03-09T18:13:46.636167Z",
     "iopub.status.idle": "2025-03-09T18:13:46.686086Z",
     "shell.execute_reply": "2025-03-09T18:13:46.683077Z",
     "shell.execute_reply.started": "2025-03-09T18:13:46.637170Z"
    }
   },
   "outputs": [
    {
     "name": "stdout",
     "output_type": "stream",
     "text": [
      "\n",
      "Final Clustering Results:\n",
      "ACC: 0.6930\n",
      "NMI: 0.7927\n",
      "ARI: 0.5384\n"
     ]
    }
   ],
   "source": [
    "y_true = test_df['labels'].values\n",
    "y_pred = test_df['pred'].values\n",
    "\n",
    "# 计算指标\n",
    "print(\"\\nFinal Clustering Results:\")\n",
    "print(f\"ACC: {acc(y_true, y_pred):.4f}\")\n",
    "print(f\"NMI: {nmi(y_true, y_pred):.4f}\")\n",
    "print(f\"ARI: {ari(y_true, y_pred):.4f}\")"
   ]
  },
  {
   "cell_type": "markdown",
   "id": "b9671256-2ef2-40c2-a3d7-ed42beb91ed2",
   "metadata": {},
   "source": [
    "参考：\n",
    "\n",
    "- [vlukiyanov/pt-dec](https://github.com/vlukiyanov/pt-dec)\n",
    "- [piiswrong/dec](https://github.com/piiswrong/dec)\n",
    "- [XifengGuo/DEC-keras](https://github.com/XifengGuo/DEC-keras)"
   ]
  },
  {
   "cell_type": "code",
   "execution_count": null,
   "id": "71b6dd3c-032a-4680-bae2-34e9e961ca18",
   "metadata": {},
   "outputs": [],
   "source": []
  }
 ],
 "metadata": {
  "kernelspec": {
   "display_name": "Python 3 (ipykernel)",
   "language": "python",
   "name": "python3"
  },
  "language_info": {
   "codemirror_mode": {
    "name": "ipython",
    "version": 3
   },
   "file_extension": ".py",
   "mimetype": "text/x-python",
   "name": "python",
   "nbconvert_exporter": "python",
   "pygments_lexer": "ipython3",
   "version": "3.12.3"
  }
 },
 "nbformat": 4,
 "nbformat_minor": 5
}
