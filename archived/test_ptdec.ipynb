{
 "cells": [
  {
   "cell_type": "markdown",
   "id": "c4825d93-32f2-4c1f-9cc6-9eda83a327ad",
   "metadata": {},
   "source": [
    "# test ptdec\n",
    "\n",
    "如未安装，安装 `tensorboard`"
   ]
  },
  {
   "cell_type": "code",
   "execution_count": 1,
   "id": "efa7c2af-dbe2-4f94-91dd-389b21adc6fd",
   "metadata": {
    "execution": {
     "iopub.execute_input": "2025-03-09T13:38:31.172801Z",
     "iopub.status.busy": "2025-03-09T13:38:31.172801Z",
     "iopub.status.idle": "2025-03-09T13:38:31.177286Z",
     "shell.execute_reply": "2025-03-09T13:38:31.176221Z",
     "shell.execute_reply.started": "2025-03-09T13:38:31.172801Z"
    }
   },
   "outputs": [],
   "source": [
    "# !pip install tensorboard"
   ]
  },
  {
   "cell_type": "markdown",
   "id": "7f50eb16-675c-4da3-a5e9-5b9bcbe4bd4d",
   "metadata": {},
   "source": [
    "打开终端，启动 tensorboard 监控训练进程:\n",
    "\n",
    "```bash\n",
    "tensorboard --logdir=runs --port=6006\n",
    "```\n",
    "\n",
    "在浏览器打开：http://localhost:6006/"
   ]
  },
  {
   "cell_type": "code",
   "execution_count": 2,
   "id": "78db00cc-8845-41cb-ae0d-e2c81258d163",
   "metadata": {
    "execution": {
     "iopub.execute_input": "2025-03-09T13:38:31.178294Z",
     "iopub.status.busy": "2025-03-09T13:38:31.177286Z",
     "iopub.status.idle": "2025-03-09T13:38:33.372721Z",
     "shell.execute_reply": "2025-03-09T13:38:33.372721Z",
     "shell.execute_reply.started": "2025-03-09T13:38:31.178294Z"
    }
   },
   "outputs": [],
   "source": [
    "import os\n",
    "import numpy as np\n",
    "import torch.nn as nn\n",
    "import torch.optim as optim\n",
    "\n",
    "import utils\n",
    "\n",
    "os.environ[\"LOKY_MAX_CPU_COUNT\"] = \"4\"\n",
    "\n",
    "CSV_PATH = '../data'"
   ]
  },
  {
   "cell_type": "markdown",
   "id": "3b538755-0a60-46d7-97b6-439ea825456c",
   "metadata": {
    "execution": {
     "iopub.execute_input": "2025-03-07T18:35:27.320891Z",
     "iopub.status.busy": "2025-03-07T18:35:27.320891Z",
     "iopub.status.idle": "2025-03-07T18:35:27.348167Z",
     "shell.execute_reply": "2025-03-07T18:35:27.348167Z",
     "shell.execute_reply.started": "2025-03-07T18:35:27.320891Z"
    }
   },
   "source": [
    "## 1. 加载 Embedding 数据\n",
    "\n",
    "加载第二节计算的图片 Embeddings 和对应 labels."
   ]
  },
  {
   "cell_type": "code",
   "execution_count": 3,
   "id": "3f10f4aa-7b2e-436f-be2a-c86439c0db2e",
   "metadata": {
    "execution": {
     "iopub.execute_input": "2025-03-09T13:38:33.374054Z",
     "iopub.status.busy": "2025-03-09T13:38:33.372721Z",
     "iopub.status.idle": "2025-03-09T13:38:54.172510Z",
     "shell.execute_reply": "2025-03-09T13:38:54.170495Z",
     "shell.execute_reply.started": "2025-03-09T13:38:33.374054Z"
    }
   },
   "outputs": [
    {
     "data": {
      "text/plain": [
       "(10000, 100)"
      ]
     },
     "execution_count": 3,
     "metadata": {},
     "output_type": "execute_result"
    }
   ],
   "source": [
    "# 将 csv 读入 DataFrame\n",
    "train_csv_path = os.path.join(CSV_PATH, 'train_embed_label.csv')\n",
    "train_df = utils.read_embedding_csv(csv_path=train_csv_path,\n",
    "                                    ebd_cols=['embeddings'])\n",
    "len(train_df), len(set(train_df['labels'].tolist()))"
   ]
  },
  {
   "cell_type": "code",
   "execution_count": 4,
   "id": "992c307e-7691-40bb-bd49-5b10969eade4",
   "metadata": {
    "execution": {
     "iopub.execute_input": "2025-03-09T13:38:54.174511Z",
     "iopub.status.busy": "2025-03-09T13:38:54.174511Z",
     "iopub.status.idle": "2025-03-09T13:38:54.190948Z",
     "shell.execute_reply": "2025-03-09T13:38:54.189940Z",
     "shell.execute_reply.started": "2025-03-09T13:38:54.174511Z"
    }
   },
   "outputs": [
    {
     "data": {
      "text/html": [
       "<div>\n",
       "<style scoped>\n",
       "    .dataframe tbody tr th:only-of-type {\n",
       "        vertical-align: middle;\n",
       "    }\n",
       "\n",
       "    .dataframe tbody tr th {\n",
       "        vertical-align: top;\n",
       "    }\n",
       "\n",
       "    .dataframe thead th {\n",
       "        text-align: right;\n",
       "    }\n",
       "</style>\n",
       "<table border=\"1\" class=\"dataframe\">\n",
       "  <thead>\n",
       "    <tr style=\"text-align: right;\">\n",
       "      <th></th>\n",
       "      <th>embeddings</th>\n",
       "      <th>labels</th>\n",
       "    </tr>\n",
       "  </thead>\n",
       "  <tbody>\n",
       "    <tr>\n",
       "      <th>0</th>\n",
       "      <td>[0.013868028298020363, -0.01785886101424694, 0...</td>\n",
       "      <td>19</td>\n",
       "    </tr>\n",
       "    <tr>\n",
       "      <th>1</th>\n",
       "      <td>[0.03667556121945381, -0.08648686856031418, 0....</td>\n",
       "      <td>29</td>\n",
       "    </tr>\n",
       "    <tr>\n",
       "      <th>2</th>\n",
       "      <td>[0.0741165354847908, -0.008068534545600414, 0....</td>\n",
       "      <td>0</td>\n",
       "    </tr>\n",
       "    <tr>\n",
       "      <th>3</th>\n",
       "      <td>[-0.034709382802248, 0.048253390938043594, -0....</td>\n",
       "      <td>11</td>\n",
       "    </tr>\n",
       "    <tr>\n",
       "      <th>4</th>\n",
       "      <td>[-0.06292618066072464, 0.06838615983724594, 0....</td>\n",
       "      <td>1</td>\n",
       "    </tr>\n",
       "  </tbody>\n",
       "</table>\n",
       "</div>"
      ],
      "text/plain": [
       "                                          embeddings  labels\n",
       "0  [0.013868028298020363, -0.01785886101424694, 0...      19\n",
       "1  [0.03667556121945381, -0.08648686856031418, 0....      29\n",
       "2  [0.0741165354847908, -0.008068534545600414, 0....       0\n",
       "3  [-0.034709382802248, 0.048253390938043594, -0....      11\n",
       "4  [-0.06292618066072464, 0.06838615983724594, 0....       1"
      ]
     },
     "execution_count": 4,
     "metadata": {},
     "output_type": "execute_result"
    }
   ],
   "source": [
    "train_df.head()"
   ]
  },
  {
   "cell_type": "code",
   "execution_count": 5,
   "id": "e57721e3-6e16-4c32-b919-8424962e7f47",
   "metadata": {
    "execution": {
     "iopub.execute_input": "2025-03-09T13:38:54.191947Z",
     "iopub.status.busy": "2025-03-09T13:38:54.191947Z",
     "iopub.status.idle": "2025-03-09T13:38:54.214919Z",
     "shell.execute_reply": "2025-03-09T13:38:54.213914Z",
     "shell.execute_reply.started": "2025-03-09T13:38:54.191947Z"
    }
   },
   "outputs": [],
   "source": [
    "train_embeds = np.array(train_df['embeddings'].tolist())\n",
    "train_labels = train_df['labels'].values"
   ]
  },
  {
   "cell_type": "markdown",
   "id": "69d1ab39-a778-4573-8d7d-95b725e719da",
   "metadata": {},
   "source": [
    "## 2. 训练 DEC 模型"
   ]
  },
  {
   "cell_type": "code",
   "execution_count": 6,
   "id": "f5b65d5d-a233-4216-ace5-280d7ddcbac2",
   "metadata": {
    "execution": {
     "iopub.execute_input": "2025-03-09T13:38:54.215919Z",
     "iopub.status.busy": "2025-03-09T13:38:54.215919Z",
     "iopub.status.idle": "2025-03-09T13:38:54.235323Z",
     "shell.execute_reply": "2025-03-09T13:38:54.235323Z",
     "shell.execute_reply.started": "2025-03-09T13:38:54.215919Z"
    }
   },
   "outputs": [],
   "source": [
    "import torch\n",
    "from torch.utils.data import Dataset, DataLoader\n",
    "\n",
    "class EmbeddingDataset(Dataset):\n",
    "    def __init__(self, embeddings, labels):\n",
    "        self.embeddings = torch.tensor(embeddings, dtype=torch.float32)\n",
    "        self.labels = torch.tensor(labels, dtype=torch.long)\n",
    "    \n",
    "    def __len__(self):\n",
    "        return len(self.embeddings)\n",
    "    \n",
    "    def __getitem__(self, idx):\n",
    "        return self.embeddings[idx], self.labels[idx]\n",
    "\n",
    "dataset = EmbeddingDataset(train_embeds, train_labels)"
   ]
  },
  {
   "cell_type": "code",
   "execution_count": 8,
   "id": "562e5574-73fe-4ef2-94d5-2b0fd4abea48",
   "metadata": {
    "execution": {
     "iopub.execute_input": "2025-03-09T13:38:54.241045Z",
     "iopub.status.busy": "2025-03-09T13:38:54.241045Z",
     "iopub.status.idle": "2025-03-09T13:38:54.247414Z",
     "shell.execute_reply": "2025-03-09T13:38:54.246711Z",
     "shell.execute_reply.started": "2025-03-09T13:38:54.241045Z"
    }
   },
   "outputs": [],
   "source": [
    "class Encoder(nn.Module):\n",
    "    def __init__(self, input_dim=768, hidden_dim=256):\n",
    "        super().__init__()\n",
    "        self.layer = nn.Sequential(\n",
    "            nn.Linear(input_dim, hidden_dim),\n",
    "            nn.ReLU(),\n",
    "        )\n",
    "\n",
    "    def forward(self, x):\n",
    "        return self.layer(x)\n",
    "\n",
    "encoder = Encoder(input_dim=768, hidden_dim=256)"
   ]
  },
  {
   "cell_type": "code",
   "execution_count": 9,
   "id": "14de444a-2f71-407b-a64e-295c2c1141a9",
   "metadata": {
    "execution": {
     "iopub.execute_input": "2025-03-09T13:38:54.247934Z",
     "iopub.status.busy": "2025-03-09T13:38:54.247934Z",
     "iopub.status.idle": "2025-03-09T13:38:54.253090Z",
     "shell.execute_reply": "2025-03-09T13:38:54.253090Z",
     "shell.execute_reply.started": "2025-03-09T13:38:54.247934Z"
    }
   },
   "outputs": [],
   "source": [
    "from ptdec.dec import DEC\n",
    "\n",
    "model = DEC(\n",
    "    cluster_number=100,          # 与你的类别数一致\n",
    "    hidden_dimension=256,        # 编码器输出维度\n",
    "    encoder=encoder,\n",
    "    alpha=1.0\n",
    ")"
   ]
  },
  {
   "cell_type": "code",
   "execution_count": 10,
   "id": "979954ba-2562-4a00-adf3-3dc5ea921541",
   "metadata": {
    "execution": {
     "iopub.execute_input": "2025-03-09T13:38:54.254152Z",
     "iopub.status.busy": "2025-03-09T13:38:54.254152Z",
     "iopub.status.idle": "2025-03-09T13:40:49.061829Z",
     "shell.execute_reply": "2025-03-09T13:40:49.061228Z",
     "shell.execute_reply.started": "2025-03-09T13:38:54.254152Z"
    }
   },
   "outputs": [
    {
     "name": "stderr",
     "output_type": "stream",
     "text": [
      "100%|█████████████████████████████| 40/40 [00:00<00:00, 276.23batch/s, acc=0.0000, dlb=-1.0000, epo=-1, lss=0.00000000]\n",
      "C:\\Users\\luoch\\miniconda3\\Lib\\site-packages\\torch\\nn\\_reduction.py:51: UserWarning: size_average and reduce args will be deprecated, please use reduction='sum' instead.\n",
      "  warnings.warn(warning.format(ret))\n",
      "100%|████████████████████████████████| 40/40 [00:00<00:00, 52.55batch/s, acc=0.6632, dlb=0.0000, epo=0, lss=0.05070312]\n",
      "100%|████████████████████████████████| 40/40 [00:00<00:00, 55.31batch/s, acc=0.0706, dlb=0.9241, epo=1, lss=0.07348070]\n",
      "100%|████████████████████████████████| 40/40 [00:00<00:00, 57.28batch/s, acc=0.0249, dlb=0.2110, epo=2, lss=0.07093086]\n",
      "100%|████████████████████████████████| 40/40 [00:00<00:00, 57.08batch/s, acc=0.0303, dlb=0.1010, epo=3, lss=0.06684899]\n",
      "100%|████████████████████████████████| 40/40 [00:00<00:00, 58.43batch/s, acc=0.0341, dlb=0.5470, epo=4, lss=0.05959591]\n",
      "100%|████████████████████████████████| 40/40 [00:00<00:00, 55.35batch/s, acc=0.0373, dlb=0.8530, epo=5, lss=0.04909821]\n",
      "100%|████████████████████████████████| 40/40 [00:00<00:00, 52.52batch/s, acc=0.0433, dlb=0.3845, epo=6, lss=0.08741675]\n",
      "100%|████████████████████████████████| 40/40 [00:00<00:00, 55.45batch/s, acc=0.0500, dlb=0.6889, epo=7, lss=0.12252814]\n",
      "100%|████████████████████████████████| 40/40 [00:00<00:00, 57.30batch/s, acc=0.0606, dlb=0.8642, epo=8, lss=0.14725655]\n",
      "100%|████████████████████████████████| 40/40 [00:00<00:00, 52.72batch/s, acc=0.0755, dlb=0.7709, epo=9, lss=0.17118949]\n",
      "100%|███████████████████████████████| 40/40 [00:00<00:00, 57.35batch/s, acc=0.0805, dlb=0.6936, epo=10, lss=0.17164658]\n",
      "100%|███████████████████████████████| 40/40 [00:00<00:00, 54.92batch/s, acc=0.0856, dlb=0.6154, epo=11, lss=0.20651457]\n",
      "100%|███████████████████████████████| 40/40 [00:00<00:00, 53.83batch/s, acc=0.0866, dlb=0.5460, epo=12, lss=0.16661249]\n",
      "100%|███████████████████████████████| 40/40 [00:00<00:00, 54.70batch/s, acc=0.0879, dlb=0.5065, epo=13, lss=0.22923511]\n",
      "100%|███████████████████████████████| 40/40 [00:00<00:00, 56.78batch/s, acc=0.0859, dlb=0.4237, epo=14, lss=0.20742486]\n",
      "100%|███████████████████████████████| 40/40 [00:00<00:00, 54.46batch/s, acc=0.0853, dlb=0.5057, epo=15, lss=0.22152033]\n",
      "100%|███████████████████████████████| 40/40 [00:00<00:00, 54.07batch/s, acc=0.0854, dlb=0.4768, epo=16, lss=0.22693427]\n",
      "100%|███████████████████████████████| 40/40 [00:00<00:00, 56.49batch/s, acc=0.0854, dlb=0.3685, epo=17, lss=0.16720855]\n",
      "100%|███████████████████████████████| 40/40 [00:00<00:00, 51.68batch/s, acc=0.0855, dlb=0.3859, epo=18, lss=0.20948115]\n",
      "100%|███████████████████████████████| 40/40 [00:00<00:00, 55.76batch/s, acc=0.0853, dlb=0.3130, epo=19, lss=0.20309316]\n",
      "100%|███████████████████████████████| 40/40 [00:00<00:00, 53.44batch/s, acc=0.0857, dlb=0.2110, epo=20, lss=0.19078928]\n",
      "100%|███████████████████████████████| 40/40 [00:00<00:00, 55.05batch/s, acc=0.0848, dlb=0.3690, epo=21, lss=0.22342998]\n",
      "100%|███████████████████████████████| 40/40 [00:00<00:00, 56.41batch/s, acc=0.0834, dlb=0.3274, epo=22, lss=0.23415790]\n",
      "100%|███████████████████████████████| 40/40 [00:00<00:00, 52.65batch/s, acc=0.0839, dlb=0.2506, epo=23, lss=0.22344485]\n",
      "100%|███████████████████████████████| 40/40 [00:00<00:00, 56.40batch/s, acc=0.0841, dlb=0.2398, epo=24, lss=0.22784534]\n",
      "100%|███████████████████████████████| 40/40 [00:00<00:00, 54.08batch/s, acc=0.0848, dlb=0.2461, epo=25, lss=0.19424531]\n",
      "100%|███████████████████████████████| 40/40 [00:00<00:00, 55.61batch/s, acc=0.0840, dlb=0.1852, epo=26, lss=0.23106351]\n",
      "100%|███████████████████████████████| 40/40 [00:00<00:00, 57.85batch/s, acc=0.0846, dlb=0.1256, epo=27, lss=0.23945811]\n",
      "100%|███████████████████████████████| 40/40 [00:00<00:00, 51.88batch/s, acc=0.0857, dlb=0.2776, epo=28, lss=0.20935079]\n",
      "100%|███████████████████████████████| 40/40 [00:00<00:00, 54.54batch/s, acc=0.0854, dlb=0.2420, epo=29, lss=0.16813846]\n",
      "100%|███████████████████████████████| 40/40 [00:00<00:00, 52.98batch/s, acc=0.0859, dlb=0.1161, epo=30, lss=0.23031646]\n",
      "100%|███████████████████████████████| 40/40 [00:00<00:00, 55.73batch/s, acc=0.0863, dlb=0.1000, epo=31, lss=0.20589426]\n",
      "100%|███████████████████████████████| 40/40 [00:00<00:00, 56.51batch/s, acc=0.0866, dlb=0.2093, epo=32, lss=0.21921943]\n",
      "100%|███████████████████████████████| 40/40 [00:00<00:00, 53.81batch/s, acc=0.0847, dlb=0.2569, epo=33, lss=0.22830579]\n",
      "100%|███████████████████████████████| 40/40 [00:00<00:00, 56.81batch/s, acc=0.0874, dlb=0.1888, epo=34, lss=0.21171981]\n",
      "100%|███████████████████████████████| 40/40 [00:00<00:00, 55.48batch/s, acc=0.0864, dlb=0.2542, epo=35, lss=0.27422407]\n",
      "100%|███████████████████████████████| 40/40 [00:00<00:00, 50.03batch/s, acc=0.0868, dlb=0.1770, epo=36, lss=0.21328844]\n",
      "100%|███████████████████████████████| 40/40 [00:00<00:00, 54.26batch/s, acc=0.0865, dlb=0.2016, epo=37, lss=0.18949836]\n",
      "100%|███████████████████████████████| 40/40 [00:00<00:00, 53.69batch/s, acc=0.0866, dlb=0.2612, epo=38, lss=0.22634205]\n",
      "100%|███████████████████████████████| 40/40 [00:00<00:00, 55.60batch/s, acc=0.0862, dlb=0.1795, epo=39, lss=0.22400604]\n",
      "100%|███████████████████████████████| 40/40 [00:00<00:00, 51.89batch/s, acc=0.0859, dlb=0.1077, epo=40, lss=0.22536649]\n",
      "100%|███████████████████████████████| 40/40 [00:00<00:00, 53.24batch/s, acc=0.0845, dlb=0.0876, epo=41, lss=0.23986658]\n",
      "100%|███████████████████████████████| 40/40 [00:00<00:00, 57.08batch/s, acc=0.0860, dlb=0.0949, epo=42, lss=0.18283528]\n",
      "100%|███████████████████████████████| 40/40 [00:00<00:00, 55.25batch/s, acc=0.0841, dlb=0.2219, epo=43, lss=0.23637311]\n",
      "100%|███████████████████████████████| 40/40 [00:00<00:00, 54.10batch/s, acc=0.0855, dlb=0.1977, epo=44, lss=0.22869647]\n",
      "100%|███████████████████████████████| 40/40 [00:00<00:00, 55.69batch/s, acc=0.0860, dlb=0.1993, epo=45, lss=0.19965480]\n",
      "100%|███████████████████████████████| 40/40 [00:00<00:00, 53.60batch/s, acc=0.0852, dlb=0.1993, epo=46, lss=0.19331086]\n",
      "100%|███████████████████████████████| 40/40 [00:00<00:00, 54.89batch/s, acc=0.0840, dlb=0.0997, epo=47, lss=0.22600345]\n",
      "100%|███████████████████████████████| 40/40 [00:00<00:00, 56.49batch/s, acc=0.0857, dlb=0.1729, epo=48, lss=0.20026655]\n",
      "100%|███████████████████████████████| 40/40 [00:00<00:00, 56.03batch/s, acc=0.0855, dlb=0.1695, epo=49, lss=0.21659636]\n",
      "100%|███████████████████████████████| 40/40 [00:00<00:00, 55.97batch/s, acc=0.0843, dlb=0.0918, epo=50, lss=0.22275917]\n",
      "100%|███████████████████████████████| 40/40 [00:00<00:00, 54.51batch/s, acc=0.0843, dlb=0.1953, epo=51, lss=0.20795532]\n",
      "100%|███████████████████████████████| 40/40 [00:00<00:00, 56.80batch/s, acc=0.0838, dlb=0.2269, epo=52, lss=0.18070346]\n",
      "100%|███████████████████████████████| 40/40 [00:00<00:00, 56.02batch/s, acc=0.0855, dlb=0.2194, epo=53, lss=0.20345470]\n",
      "100%|███████████████████████████████| 40/40 [00:00<00:00, 55.76batch/s, acc=0.0834, dlb=0.1752, epo=54, lss=0.20224188]\n",
      "100%|███████████████████████████████| 40/40 [00:00<00:00, 55.16batch/s, acc=0.0836, dlb=0.0967, epo=55, lss=0.20778842]\n",
      "100%|███████████████████████████████| 40/40 [00:00<00:00, 56.32batch/s, acc=0.0861, dlb=0.1897, epo=56, lss=0.23239264]\n",
      "100%|███████████████████████████████| 40/40 [00:00<00:00, 53.21batch/s, acc=0.0843, dlb=0.1829, epo=57, lss=0.18885094]\n",
      "100%|███████████████████████████████| 40/40 [00:00<00:00, 58.34batch/s, acc=0.0844, dlb=0.0764, epo=58, lss=0.22991994]\n",
      "100%|███████████████████████████████| 40/40 [00:00<00:00, 54.96batch/s, acc=0.0852, dlb=0.0820, epo=59, lss=0.17124508]\n",
      "100%|███████████████████████████████| 40/40 [00:00<00:00, 49.66batch/s, acc=0.0846, dlb=0.1107, epo=60, lss=0.20169026]\n",
      "100%|███████████████████████████████| 40/40 [00:00<00:00, 57.62batch/s, acc=0.0854, dlb=0.1918, epo=61, lss=0.19980566]\n",
      "100%|███████████████████████████████| 40/40 [00:00<00:00, 55.49batch/s, acc=0.0859, dlb=0.1748, epo=62, lss=0.18658996]\n",
      "100%|███████████████████████████████| 40/40 [00:00<00:00, 56.54batch/s, acc=0.0851, dlb=0.1454, epo=63, lss=0.23948494]\n",
      "100%|███████████████████████████████| 40/40 [00:00<00:00, 58.50batch/s, acc=0.0855, dlb=0.1046, epo=64, lss=0.21107563]\n",
      "100%|███████████████████████████████| 40/40 [00:00<00:00, 58.04batch/s, acc=0.0839, dlb=0.1053, epo=65, lss=0.18627615]\n",
      "100%|███████████████████████████████| 40/40 [00:00<00:00, 54.67batch/s, acc=0.0852, dlb=0.1737, epo=66, lss=0.18994965]\n",
      "100%|███████████████████████████████| 40/40 [00:00<00:00, 55.90batch/s, acc=0.0847, dlb=0.0845, epo=67, lss=0.18487570]\n",
      "100%|███████████████████████████████| 40/40 [00:00<00:00, 53.00batch/s, acc=0.0856, dlb=0.0946, epo=68, lss=0.18521234]\n",
      "100%|███████████████████████████████| 40/40 [00:00<00:00, 53.39batch/s, acc=0.0852, dlb=0.1959, epo=69, lss=0.17876554]\n",
      "100%|███████████████████████████████| 40/40 [00:00<00:00, 56.31batch/s, acc=0.0847, dlb=0.1789, epo=70, lss=0.17242402]\n",
      "100%|███████████████████████████████| 40/40 [00:00<00:00, 56.07batch/s, acc=0.0856, dlb=0.1536, epo=71, lss=0.20459202]\n",
      "100%|███████████████████████████████| 40/40 [00:00<00:00, 57.26batch/s, acc=0.0839, dlb=0.1795, epo=72, lss=0.21490464]\n",
      "100%|███████████████████████████████| 40/40 [00:00<00:00, 49.21batch/s, acc=0.0855, dlb=0.1878, epo=73, lss=0.19931284]\n",
      "100%|███████████████████████████████| 40/40 [00:00<00:00, 54.39batch/s, acc=0.0852, dlb=0.2269, epo=74, lss=0.15923102]\n",
      "100%|███████████████████████████████| 40/40 [00:00<00:00, 56.35batch/s, acc=0.0856, dlb=0.1753, epo=75, lss=0.19863309]\n",
      "100%|███████████████████████████████| 40/40 [00:00<00:00, 56.84batch/s, acc=0.0848, dlb=0.1023, epo=76, lss=0.16069394]\n",
      "100%|███████████████████████████████| 40/40 [00:00<00:00, 54.93batch/s, acc=0.0846, dlb=0.1895, epo=77, lss=0.20398770]\n",
      "100%|███████████████████████████████| 40/40 [00:00<00:00, 57.65batch/s, acc=0.0853, dlb=0.1698, epo=78, lss=0.20450382]\n",
      "100%|███████████████████████████████| 40/40 [00:00<00:00, 54.80batch/s, acc=0.0849, dlb=0.1607, epo=79, lss=0.18686341]\n",
      "100%|███████████████████████████████| 40/40 [00:00<00:00, 62.56batch/s, acc=0.0846, dlb=0.1458, epo=80, lss=0.18449129]\n",
      "100%|███████████████████████████████| 40/40 [00:00<00:00, 64.45batch/s, acc=0.0851, dlb=0.0994, epo=81, lss=0.21347758]\n",
      "100%|███████████████████████████████| 40/40 [00:00<00:00, 60.04batch/s, acc=0.0859, dlb=0.0824, epo=82, lss=0.14406197]\n",
      "100%|███████████████████████████████| 40/40 [00:00<00:00, 63.13batch/s, acc=0.0854, dlb=0.1967, epo=83, lss=0.22932667]\n",
      "100%|███████████████████████████████| 40/40 [00:00<00:00, 57.57batch/s, acc=0.0858, dlb=0.0928, epo=84, lss=0.19321957]\n",
      "100%|███████████████████████████████| 40/40 [00:00<00:00, 61.63batch/s, acc=0.0854, dlb=0.0702, epo=85, lss=0.18404271]\n",
      "100%|███████████████████████████████| 40/40 [00:00<00:00, 60.13batch/s, acc=0.0850, dlb=0.1461, epo=86, lss=0.19437888]\n",
      "100%|███████████████████████████████| 40/40 [00:00<00:00, 54.14batch/s, acc=0.0849, dlb=0.0743, epo=87, lss=0.19924892]\n",
      "100%|███████████████████████████████| 40/40 [00:00<00:00, 71.84batch/s, acc=0.0848, dlb=0.0847, epo=88, lss=0.18549293]\n",
      "100%|███████████████████████████████| 40/40 [00:00<00:00, 61.64batch/s, acc=0.0859, dlb=0.1735, epo=89, lss=0.19673671]\n",
      "100%|███████████████████████████████| 40/40 [00:00<00:00, 56.82batch/s, acc=0.0841, dlb=0.0826, epo=90, lss=0.21724758]\n",
      "100%|███████████████████████████████| 40/40 [00:00<00:00, 58.40batch/s, acc=0.0854, dlb=0.1741, epo=91, lss=0.22022653]\n",
      "100%|███████████████████████████████| 40/40 [00:00<00:00, 61.74batch/s, acc=0.0858, dlb=0.1893, epo=92, lss=0.19139689]\n",
      "100%|███████████████████████████████| 40/40 [00:00<00:00, 50.18batch/s, acc=0.0859, dlb=0.1671, epo=93, lss=0.16388401]\n",
      "100%|███████████████████████████████| 40/40 [00:00<00:00, 54.64batch/s, acc=0.0858, dlb=0.2128, epo=94, lss=0.17094396]\n",
      "100%|███████████████████████████████| 40/40 [00:00<00:00, 54.95batch/s, acc=0.0852, dlb=0.2154, epo=95, lss=0.17610712]\n",
      "100%|███████████████████████████████| 40/40 [00:00<00:00, 56.22batch/s, acc=0.0856, dlb=0.1724, epo=96, lss=0.15072906]\n",
      "100%|███████████████████████████████| 40/40 [00:00<00:00, 50.35batch/s, acc=0.0864, dlb=0.1729, epo=97, lss=0.21452859]\n",
      "100%|███████████████████████████████| 40/40 [00:00<00:00, 55.22batch/s, acc=0.0859, dlb=0.1860, epo=98, lss=0.16907658]\n",
      "100%|███████████████████████████████| 40/40 [00:00<00:00, 49.76batch/s, acc=0.0853, dlb=0.1931, epo=99, lss=0.17622449]\n"
     ]
    }
   ],
   "source": [
    "from ptdec.model import train\n",
    "import torch.optim as optim\n",
    "\n",
    "optimizer = optim.Adam(model.parameters(), lr=0.001)\n",
    "\n",
    "train(\n",
    "    dataset=dataset,\n",
    "    model=model,\n",
    "    epochs=100,                   # 训练轮次\n",
    "    batch_size=256,              # 批次大小\n",
    "    optimizer=optimizer,\n",
    "    stopping_delta=0.001,        # 标签变化小于0.1%时提前停止\n",
    "    cuda=False,                   # 使用GPU加速（如果可用）\n",
    ")"
   ]
  },
  {
   "cell_type": "code",
   "execution_count": 11,
   "id": "61e314e5-982a-43dc-bc4e-f61b92c6a38d",
   "metadata": {
    "execution": {
     "iopub.execute_input": "2025-03-09T13:40:49.063938Z",
     "iopub.status.busy": "2025-03-09T13:40:49.062929Z",
     "iopub.status.idle": "2025-03-09T13:40:49.327511Z",
     "shell.execute_reply": "2025-03-09T13:40:49.327511Z",
     "shell.execute_reply.started": "2025-03-09T13:40:49.063938Z"
    }
   },
   "outputs": [
    {
     "name": "stderr",
     "output_type": "stream",
     "text": [
      "100%|███████████████████████████████████████████████████████████████████████████████| 10/10 [00:00<00:00, 40.00batch/s]"
     ]
    },
    {
     "name": "stdout",
     "output_type": "stream",
     "text": [
      "Clustering Accuracy: 8.59%\n"
     ]
    },
    {
     "name": "stderr",
     "output_type": "stream",
     "text": [
      "\n"
     ]
    }
   ],
   "source": [
    "from ptdec.model import predict\n",
    "from ptdec.utils import cluster_accuracy\n",
    "\n",
    "# 预测聚类结果\n",
    "predicted_labels, actual_labels = predict(\n",
    "    dataset=dataset,\n",
    "    model=model,\n",
    "    return_actual=True,\n",
    "    cuda=False\n",
    ")\n",
    "\n",
    "# 计算准确率（自动处理标签重分配）\n",
    "_, accuracy = cluster_accuracy(\n",
    "    y_true=actual_labels.numpy(),\n",
    "    y_predicted=predicted_labels.numpy(),\n",
    "    cluster_number=100\n",
    ")\n",
    "\n",
    "print(f\"Clustering Accuracy: {accuracy * 100:.2f}%\")"
   ]
  },
  {
   "cell_type": "code",
   "execution_count": null,
   "id": "db5b3e5c-5c67-4608-a590-76e336f310fb",
   "metadata": {},
   "outputs": [],
   "source": []
  }
 ],
 "metadata": {
  "kernelspec": {
   "display_name": "Python 3 (ipykernel)",
   "language": "python",
   "name": "python3"
  },
  "language_info": {
   "codemirror_mode": {
    "name": "ipython",
    "version": 3
   },
   "file_extension": ".py",
   "mimetype": "text/x-python",
   "name": "python",
   "nbconvert_exporter": "python",
   "pygments_lexer": "ipython3",
   "version": "3.12.3"
  }
 },
 "nbformat": 4,
 "nbformat_minor": 5
}
